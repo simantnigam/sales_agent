{
 "cells": [
  {
   "cell_type": "code",
   "execution_count": 1,
   "id": "3872a1c4",
   "metadata": {},
   "outputs": [],
   "source": [
    "import sqlite3\n",
    "import pandas as pd\n",
    "import random\n",
    "from faker import Faker\n",
    "from datetime import datetime, timedelta\n",
    "\n",
    "random.seed(42)"
   ]
  },
  {
   "cell_type": "code",
   "execution_count": null,
   "id": "ba5a1dd4",
   "metadata": {},
   "outputs": [],
   "source": [
    "NUM_RETAILERS = 240\n",
    "NUM_PRODUCTS = 40\n",
    "NUM_VISITS = 10000\n",
    "VISIT_DAYS_RANGE = 365\n",
    "CITY_NAME = \"Bengaluru\"\n",
    "NUM_AGENTS = 2\n",
    "NUM_BEATS = 12\n",
    "CHANNELS = [\"Pharmacy\", \"Grocery\", \"General Trade\", \"Medical Store\"]\n",
    "CATEGORIES = [\"Health\", \"Personal Care\", \"Beverages\", \"Nutrition\"]\n",
    "PACK_SIZES = [\"100ml\", \"200ml\", \"Box of 10\", \"Strip of 15\", \"500ml\"]\n",
    "\n",
    "\n",
    "fake = Faker()\n",
    "\n",
    "DB_PATH = \"sales_agent_co_pilot.db\""
   ]
  },
  {
   "cell_type": "code",
   "execution_count": 3,
   "id": "db0b7fdf",
   "metadata": {},
   "outputs": [],
   "source": [
    "#DB connection\n",
    "conn = sqlite3.connect(DB_PATH)\n",
    "cursor = conn.cursor()"
   ]
  },
  {
   "cell_type": "code",
   "execution_count": 4,
   "id": "aa5b38d7",
   "metadata": {},
   "outputs": [
    {
     "data": {
      "text/plain": [
       "<sqlite3.Cursor at 0x17c32662540>"
      ]
     },
     "execution_count": 4,
     "metadata": {},
     "output_type": "execute_result"
    }
   ],
   "source": [
    "# DB tables creation\n",
    "cursor.executescript(\"\"\"\n",
    "DROP TABLE IF EXISTS sales;\n",
    "DROP TABLE IF EXISTS visits;\n",
    "DROP TABLE IF EXISTS visit_stock;\n",
    "DROP TABLE IF EXISTS retailer_beat_map;\n",
    "DROP TABLE IF EXISTS beats;\n",
    "DROP TABLE IF EXISTS sales_agents;\n",
    "DROP TABLE IF EXISTS products;\n",
    "DROP TABLE IF EXISTS retailers;\n",
    "\n",
    "CREATE TABLE retailers (\n",
    "    Retailer_ID TEXT PRIMARY KEY,\n",
    "    Name TEXT,\n",
    "    City TEXT,\n",
    "    Channel TEXT,\n",
    "    Latitude REAL,\n",
    "    Longitude REAL\n",
    ");\n",
    "\n",
    "CREATE TABLE products (\n",
    "    Product_ID TEXT PRIMARY KEY,\n",
    "    Product_Name TEXT,\n",
    "    Category TEXT,\n",
    "    Price REAL,\n",
    "    Pack_Size TEXT\n",
    ");\n",
    "\n",
    "CREATE TABLE sales_agents (\n",
    "    Agent_ID TEXT PRIMARY KEY,\n",
    "    Name TEXT,\n",
    "    Mobile TEXT,\n",
    "    Email TEXT\n",
    ");\n",
    "\n",
    "CREATE TABLE beats (\n",
    "    Beat_ID TEXT PRIMARY KEY,\n",
    "    Beat_Name TEXT,\n",
    "    City TEXT,\n",
    "    Assigned_Agent TEXT,\n",
    "    FOREIGN KEY (Assigned_Agent) REFERENCES sales_agents(Agent_ID)\n",
    ");\n",
    "\n",
    "CREATE TABLE retailer_beat_map (\n",
    "    Retailer_ID TEXT,\n",
    "    Beat_ID TEXT,\n",
    "    FOREIGN KEY (Retailer_ID) REFERENCES retailers(Retailer_ID),\n",
    "    FOREIGN KEY (Beat_ID) REFERENCES beats(Beat_ID)\n",
    ");\n",
    "\n",
    "CREATE TABLE retailer_beat_map_optimized (\n",
    "    Retailer_ID TEXT,\n",
    "    Beat_ID TEXT,\n",
    "    FOREIGN KEY (Retailer_ID) REFERENCES retailers(Retailer_ID),\n",
    "    FOREIGN KEY (Beat_ID) REFERENCES beats(Beat_ID)\n",
    ");\n",
    "\n",
    "CREATE TABLE visits (\n",
    "    Visit_ID TEXT PRIMARY KEY,\n",
    "    Retailer_ID TEXT,\n",
    "    Date TEXT,\n",
    "    Products_Suggested TEXT,\n",
    "    Feedback TEXT,\n",
    "    Order_Placed INTEGER,\n",
    "    Agent_ID TEXT,\n",
    "    FOREIGN KEY (Retailer_ID) REFERENCES retailers(Retailer_ID),\n",
    "    FOREIGN KEY (Agent_ID) REFERENCES sales_agents(Agent_ID)\n",
    ");\n",
    "\n",
    "CREATE TABLE visit_stock (\n",
    "    Visit_ID TEXT,\n",
    "    Product_ID TEXT,\n",
    "    Retailer_ID TEXT,\n",
    "    Available_Stock INTEGER,\n",
    "    PRIMARY KEY (Visit_ID, Product_ID),\n",
    "    FOREIGN KEY (Visit_ID) REFERENCES visits(Visit_ID),\n",
    "    FOREIGN KEY (Product_ID) REFERENCES products(Product_ID),\n",
    "    FOREIGN KEY (Retailer_ID) REFERENCES retailers(Retailer_ID)\n",
    ");\n",
    "\n",
    "CREATE TABLE sales (\n",
    "    Invoice_ID TEXT,\n",
    "    Visit_ID TEXT,\n",
    "    Retailer_ID TEXT,\n",
    "    Product_ID TEXT,\n",
    "    Quantity INTEGER,\n",
    "    Date TEXT,\n",
    "    Total_Amount REAL,\n",
    "    PRIMARY KEY (Invoice_ID, Product_ID),\n",
    "    FOREIGN KEY (Visit_ID) REFERENCES visits(Visit_ID),\n",
    "    FOREIGN KEY (Retailer_ID) REFERENCES retailers(Retailer_ID),\n",
    "    FOREIGN KEY (Product_ID) REFERENCES products(Product_ID)\n",
    ");\n",
    "\"\"\")"
   ]
  },
  {
   "cell_type": "code",
   "execution_count": 5,
   "id": "d50e0e41",
   "metadata": {},
   "outputs": [],
   "source": [
    "# Retailers\n",
    "retailers = [{\n",
    "    \"Retailer_ID\": f\"R{i+1:04d}\",\n",
    "    \"Name\": fake.company(),\n",
    "    \"City\": CITY_NAME,\n",
    "    \"Channel\": random.choice(CHANNELS),\n",
    "    \"Latitude\": round(12.9 + random.uniform(-0.05, 0.05), 6),\n",
    "    \"Longitude\": round(77.6 + random.uniform(-0.05, 0.05), 6)\n",
    "} for i in range(NUM_RETAILERS)]\n",
    "retailers_df = pd.DataFrame(retailers)"
   ]
  },
  {
   "cell_type": "code",
   "execution_count": 6,
   "id": "d690c26f",
   "metadata": {},
   "outputs": [
    {
     "data": {
      "text/html": [
       "<div>\n",
       "<style scoped>\n",
       "    .dataframe tbody tr th:only-of-type {\n",
       "        vertical-align: middle;\n",
       "    }\n",
       "\n",
       "    .dataframe tbody tr th {\n",
       "        vertical-align: top;\n",
       "    }\n",
       "\n",
       "    .dataframe thead th {\n",
       "        text-align: right;\n",
       "    }\n",
       "</style>\n",
       "<table border=\"1\" class=\"dataframe\">\n",
       "  <thead>\n",
       "    <tr style=\"text-align: right;\">\n",
       "      <th></th>\n",
       "      <th>Retailer_ID</th>\n",
       "      <th>Name</th>\n",
       "      <th>City</th>\n",
       "      <th>Channel</th>\n",
       "      <th>Latitude</th>\n",
       "      <th>Longitude</th>\n",
       "    </tr>\n",
       "  </thead>\n",
       "  <tbody>\n",
       "    <tr>\n",
       "      <th>0</th>\n",
       "      <td>R0001</td>\n",
       "      <td>Hansen, Nguyen and Williams</td>\n",
       "      <td>Bengaluru</td>\n",
       "      <td>Pharmacy</td>\n",
       "      <td>12.852501</td>\n",
       "      <td>77.577503</td>\n",
       "    </tr>\n",
       "    <tr>\n",
       "      <th>1</th>\n",
       "      <td>R0002</td>\n",
       "      <td>Schmidt, Moyer and Rivas</td>\n",
       "      <td>Bengaluru</td>\n",
       "      <td>Grocery</td>\n",
       "      <td>12.863954</td>\n",
       "      <td>77.560250</td>\n",
       "    </tr>\n",
       "    <tr>\n",
       "      <th>2</th>\n",
       "      <td>R0003</td>\n",
       "      <td>Moss and Sons</td>\n",
       "      <td>Bengaluru</td>\n",
       "      <td>Pharmacy</td>\n",
       "      <td>12.909049</td>\n",
       "      <td>77.553178</td>\n",
       "    </tr>\n",
       "    <tr>\n",
       "      <th>3</th>\n",
       "      <td>R0004</td>\n",
       "      <td>Lewis-Kim</td>\n",
       "      <td>Bengaluru</td>\n",
       "      <td>Pharmacy</td>\n",
       "      <td>12.871864</td>\n",
       "      <td>77.600536</td>\n",
       "    </tr>\n",
       "    <tr>\n",
       "      <th>4</th>\n",
       "      <td>R0005</td>\n",
       "      <td>Butler Group</td>\n",
       "      <td>Bengaluru</td>\n",
       "      <td>Pharmacy</td>\n",
       "      <td>12.906125</td>\n",
       "      <td>77.621602</td>\n",
       "    </tr>\n",
       "  </tbody>\n",
       "</table>\n",
       "</div>"
      ],
      "text/plain": [
       "  Retailer_ID                         Name       City   Channel   Latitude  \\\n",
       "0       R0001  Hansen, Nguyen and Williams  Bengaluru  Pharmacy  12.852501   \n",
       "1       R0002     Schmidt, Moyer and Rivas  Bengaluru   Grocery  12.863954   \n",
       "2       R0003                Moss and Sons  Bengaluru  Pharmacy  12.909049   \n",
       "3       R0004                    Lewis-Kim  Bengaluru  Pharmacy  12.871864   \n",
       "4       R0005                 Butler Group  Bengaluru  Pharmacy  12.906125   \n",
       "\n",
       "   Longitude  \n",
       "0  77.577503  \n",
       "1  77.560250  \n",
       "2  77.553178  \n",
       "3  77.600536  \n",
       "4  77.621602  "
      ]
     },
     "execution_count": 6,
     "metadata": {},
     "output_type": "execute_result"
    }
   ],
   "source": [
    "retailers_df.head()"
   ]
  },
  {
   "cell_type": "code",
   "execution_count": 7,
   "id": "a542f616",
   "metadata": {},
   "outputs": [
    {
     "data": {
      "text/plain": [
       "(Channel\n",
       " Pharmacy         68\n",
       " General Trade    66\n",
       " Grocery          56\n",
       " Medical Store    50\n",
       " Name: count, dtype: int64,\n",
       " 240)"
      ]
     },
     "execution_count": 7,
     "metadata": {},
     "output_type": "execute_result"
    }
   ],
   "source": [
    "retailers_df['Channel'].value_counts(), retailers_df['Retailer_ID'].nunique()"
   ]
  },
  {
   "cell_type": "code",
   "execution_count": null,
   "id": "9f0214b6",
   "metadata": {},
   "outputs": [],
   "source": []
  },
  {
   "cell_type": "code",
   "execution_count": 8,
   "id": "e500cfe5",
   "metadata": {},
   "outputs": [],
   "source": [
    "# Products\n",
    "products = [{\n",
    "    \"Product_ID\": f\"P{i+1:03d}\",\n",
    "    \"Product_Name\": f\"{random.choice(CATEGORIES)} Product {i+1}\",\n",
    "    \"Category\": random.choice(CATEGORIES),\n",
    "    \"Price\": round(random.uniform(20, 500), 2),\n",
    "    \"Pack_Size\": random.choice(PACK_SIZES)\n",
    "} for i in range(NUM_PRODUCTS)]\n",
    "products_df = pd.DataFrame(products)\n",
    "\n",
    "product_ids = products_df[\"Product_ID\"].tolist()"
   ]
  },
  {
   "cell_type": "code",
   "execution_count": 9,
   "id": "549679e7",
   "metadata": {},
   "outputs": [
    {
     "data": {
      "text/html": [
       "<div>\n",
       "<style scoped>\n",
       "    .dataframe tbody tr th:only-of-type {\n",
       "        vertical-align: middle;\n",
       "    }\n",
       "\n",
       "    .dataframe tbody tr th {\n",
       "        vertical-align: top;\n",
       "    }\n",
       "\n",
       "    .dataframe thead th {\n",
       "        text-align: right;\n",
       "    }\n",
       "</style>\n",
       "<table border=\"1\" class=\"dataframe\">\n",
       "  <thead>\n",
       "    <tr style=\"text-align: right;\">\n",
       "      <th></th>\n",
       "      <th>Product_ID</th>\n",
       "      <th>Product_Name</th>\n",
       "      <th>Category</th>\n",
       "      <th>Price</th>\n",
       "      <th>Pack_Size</th>\n",
       "    </tr>\n",
       "  </thead>\n",
       "  <tbody>\n",
       "    <tr>\n",
       "      <th>0</th>\n",
       "      <td>P001</td>\n",
       "      <td>Beverages Product 1</td>\n",
       "      <td>Personal Care</td>\n",
       "      <td>498.53</td>\n",
       "      <td>Strip of 15</td>\n",
       "    </tr>\n",
       "    <tr>\n",
       "      <th>1</th>\n",
       "      <td>P002</td>\n",
       "      <td>Nutrition Product 2</td>\n",
       "      <td>Health</td>\n",
       "      <td>245.60</td>\n",
       "      <td>Strip of 15</td>\n",
       "    </tr>\n",
       "    <tr>\n",
       "      <th>2</th>\n",
       "      <td>P003</td>\n",
       "      <td>Beverages Product 3</td>\n",
       "      <td>Beverages</td>\n",
       "      <td>341.66</td>\n",
       "      <td>200ml</td>\n",
       "    </tr>\n",
       "    <tr>\n",
       "      <th>3</th>\n",
       "      <td>P004</td>\n",
       "      <td>Beverages Product 4</td>\n",
       "      <td>Nutrition</td>\n",
       "      <td>352.96</td>\n",
       "      <td>Box of 10</td>\n",
       "    </tr>\n",
       "    <tr>\n",
       "      <th>4</th>\n",
       "      <td>P005</td>\n",
       "      <td>Nutrition Product 5</td>\n",
       "      <td>Health</td>\n",
       "      <td>238.32</td>\n",
       "      <td>Box of 10</td>\n",
       "    </tr>\n",
       "  </tbody>\n",
       "</table>\n",
       "</div>"
      ],
      "text/plain": [
       "  Product_ID         Product_Name       Category   Price    Pack_Size\n",
       "0       P001  Beverages Product 1  Personal Care  498.53  Strip of 15\n",
       "1       P002  Nutrition Product 2         Health  245.60  Strip of 15\n",
       "2       P003  Beverages Product 3      Beverages  341.66        200ml\n",
       "3       P004  Beverages Product 4      Nutrition  352.96    Box of 10\n",
       "4       P005  Nutrition Product 5         Health  238.32    Box of 10"
      ]
     },
     "execution_count": 9,
     "metadata": {},
     "output_type": "execute_result"
    }
   ],
   "source": [
    "products_df.head()"
   ]
  },
  {
   "cell_type": "code",
   "execution_count": 10,
   "id": "c7cdb539",
   "metadata": {},
   "outputs": [
    {
     "data": {
      "text/plain": [
       "40"
      ]
     },
     "execution_count": 10,
     "metadata": {},
     "output_type": "execute_result"
    }
   ],
   "source": [
    "products_df['Product_Name'].nunique()"
   ]
  },
  {
   "cell_type": "code",
   "execution_count": 11,
   "id": "9e3f4b52",
   "metadata": {},
   "outputs": [
    {
     "data": {
      "text/plain": [
       "Category\n",
       "Nutrition        14\n",
       "Beverages        10\n",
       "Health            9\n",
       "Personal Care     7\n",
       "Name: count, dtype: int64"
      ]
     },
     "execution_count": 11,
     "metadata": {},
     "output_type": "execute_result"
    }
   ],
   "source": [
    "products_df['Category'].value_counts()"
   ]
  },
  {
   "cell_type": "code",
   "execution_count": 12,
   "id": "5355f484",
   "metadata": {},
   "outputs": [],
   "source": [
    "# Sales Agents\n",
    "agents = [{\n",
    "    \"Agent_ID\": f\"A{i+1:03d}\",\n",
    "    \"Name\": fake.name(),\n",
    "    \"Mobile\": fake.phone_number(),\n",
    "    \"Email\": fake.email()\n",
    "} for i in range(NUM_AGENTS)]\n",
    "agents_df = pd.DataFrame(agents)"
   ]
  },
  {
   "cell_type": "code",
   "execution_count": 13,
   "id": "41577011",
   "metadata": {},
   "outputs": [
    {
     "data": {
      "text/html": [
       "<div>\n",
       "<style scoped>\n",
       "    .dataframe tbody tr th:only-of-type {\n",
       "        vertical-align: middle;\n",
       "    }\n",
       "\n",
       "    .dataframe tbody tr th {\n",
       "        vertical-align: top;\n",
       "    }\n",
       "\n",
       "    .dataframe thead th {\n",
       "        text-align: right;\n",
       "    }\n",
       "</style>\n",
       "<table border=\"1\" class=\"dataframe\">\n",
       "  <thead>\n",
       "    <tr style=\"text-align: right;\">\n",
       "      <th></th>\n",
       "      <th>Agent_ID</th>\n",
       "      <th>Name</th>\n",
       "      <th>Mobile</th>\n",
       "      <th>Email</th>\n",
       "    </tr>\n",
       "  </thead>\n",
       "  <tbody>\n",
       "    <tr>\n",
       "      <th>0</th>\n",
       "      <td>A001</td>\n",
       "      <td>Kevin Baxter</td>\n",
       "      <td>260-309-7254</td>\n",
       "      <td>millerjoseph@example.net</td>\n",
       "    </tr>\n",
       "    <tr>\n",
       "      <th>1</th>\n",
       "      <td>A002</td>\n",
       "      <td>Cheryl Snyder</td>\n",
       "      <td>+1-960-906-3779</td>\n",
       "      <td>nicholssara@example.org</td>\n",
       "    </tr>\n",
       "  </tbody>\n",
       "</table>\n",
       "</div>"
      ],
      "text/plain": [
       "  Agent_ID           Name           Mobile                     Email\n",
       "0     A001   Kevin Baxter     260-309-7254  millerjoseph@example.net\n",
       "1     A002  Cheryl Snyder  +1-960-906-3779   nicholssara@example.org"
      ]
     },
     "execution_count": 13,
     "metadata": {},
     "output_type": "execute_result"
    }
   ],
   "source": [
    "agents_df.head()"
   ]
  },
  {
   "cell_type": "code",
   "execution_count": 14,
   "id": "6bb0d086",
   "metadata": {},
   "outputs": [],
   "source": [
    "agent_ids = agents_df[\"Agent_ID\"].tolist()\n",
    "assigned_agents = agent_ids * (NUM_BEATS // len(agent_ids)) + agent_ids[:NUM_BEATS % len(agent_ids)]\n",
    "random.shuffle(assigned_agents)"
   ]
  },
  {
   "cell_type": "code",
   "execution_count": 15,
   "id": "674c788b",
   "metadata": {},
   "outputs": [],
   "source": [
    "# Beats\n",
    "beats = [{\n",
    "    \"Beat_ID\": f\"B{i+1:03d}\",\n",
    "    \"Beat_Name\": f\"Beat Zone {i+1}\",\n",
    "    \"City\": CITY_NAME,\n",
    "    \"Assigned_Agent\": assigned_agents[i]\n",
    "} for i in range(NUM_BEATS)]\n",
    "beats_df = pd.DataFrame(beats)"
   ]
  },
  {
   "cell_type": "code",
   "execution_count": 16,
   "id": "59b1abe6",
   "metadata": {},
   "outputs": [
    {
     "data": {
      "text/html": [
       "<div>\n",
       "<style scoped>\n",
       "    .dataframe tbody tr th:only-of-type {\n",
       "        vertical-align: middle;\n",
       "    }\n",
       "\n",
       "    .dataframe tbody tr th {\n",
       "        vertical-align: top;\n",
       "    }\n",
       "\n",
       "    .dataframe thead th {\n",
       "        text-align: right;\n",
       "    }\n",
       "</style>\n",
       "<table border=\"1\" class=\"dataframe\">\n",
       "  <thead>\n",
       "    <tr style=\"text-align: right;\">\n",
       "      <th></th>\n",
       "      <th>Beat_ID</th>\n",
       "      <th>Beat_Name</th>\n",
       "      <th>City</th>\n",
       "      <th>Assigned_Agent</th>\n",
       "    </tr>\n",
       "  </thead>\n",
       "  <tbody>\n",
       "    <tr>\n",
       "      <th>0</th>\n",
       "      <td>B001</td>\n",
       "      <td>Beat Zone 1</td>\n",
       "      <td>Bengaluru</td>\n",
       "      <td>A002</td>\n",
       "    </tr>\n",
       "    <tr>\n",
       "      <th>1</th>\n",
       "      <td>B002</td>\n",
       "      <td>Beat Zone 2</td>\n",
       "      <td>Bengaluru</td>\n",
       "      <td>A001</td>\n",
       "    </tr>\n",
       "    <tr>\n",
       "      <th>2</th>\n",
       "      <td>B003</td>\n",
       "      <td>Beat Zone 3</td>\n",
       "      <td>Bengaluru</td>\n",
       "      <td>A001</td>\n",
       "    </tr>\n",
       "    <tr>\n",
       "      <th>3</th>\n",
       "      <td>B004</td>\n",
       "      <td>Beat Zone 4</td>\n",
       "      <td>Bengaluru</td>\n",
       "      <td>A002</td>\n",
       "    </tr>\n",
       "    <tr>\n",
       "      <th>4</th>\n",
       "      <td>B005</td>\n",
       "      <td>Beat Zone 5</td>\n",
       "      <td>Bengaluru</td>\n",
       "      <td>A002</td>\n",
       "    </tr>\n",
       "  </tbody>\n",
       "</table>\n",
       "</div>"
      ],
      "text/plain": [
       "  Beat_ID    Beat_Name       City Assigned_Agent\n",
       "0    B001  Beat Zone 1  Bengaluru           A002\n",
       "1    B002  Beat Zone 2  Bengaluru           A001\n",
       "2    B003  Beat Zone 3  Bengaluru           A001\n",
       "3    B004  Beat Zone 4  Bengaluru           A002\n",
       "4    B005  Beat Zone 5  Bengaluru           A002"
      ]
     },
     "execution_count": 16,
     "metadata": {},
     "output_type": "execute_result"
    }
   ],
   "source": [
    "beats_df.head()"
   ]
  },
  {
   "cell_type": "code",
   "execution_count": 17,
   "id": "2988b347",
   "metadata": {},
   "outputs": [
    {
     "data": {
      "text/plain": [
       "Assigned_Agent\n",
       "A002    6\n",
       "A001    6\n",
       "Name: count, dtype: int64"
      ]
     },
     "execution_count": 17,
     "metadata": {},
     "output_type": "execute_result"
    }
   ],
   "source": [
    "beats_df['Assigned_Agent'].value_counts()"
   ]
  },
  {
   "cell_type": "code",
   "execution_count": 18,
   "id": "6a1afcb6",
   "metadata": {},
   "outputs": [],
   "source": [
    "# Retailer to Beat Map\n",
    "retailer_beat_map_df = retailers_df[[\"Retailer_ID\"]].copy()\n",
    "retailer_beat_map_df[\"Beat_ID\"] = [random.choice(beats_df[\"Beat_ID\"].tolist()) for _ in range(len(retailers_df))]\n"
   ]
  },
  {
   "cell_type": "code",
   "execution_count": 19,
   "id": "f05571ce",
   "metadata": {},
   "outputs": [],
   "source": [
    "# Visit Table\n",
    "beat_agent_map = beats_df.set_index(\"Beat_ID\")[\"Assigned_Agent\"].to_dict()\n",
    "retailer_beat_map_df[\"Agent_ID\"] = retailer_beat_map_df[\"Beat_ID\"].map(beat_agent_map)\n",
    "retailer_agent_map = retailer_beat_map_df.set_index(\"Retailer_ID\")[\"Agent_ID\"].to_dict()"
   ]
  },
  {
   "cell_type": "code",
   "execution_count": 20,
   "id": "49d5f834",
   "metadata": {},
   "outputs": [
    {
     "data": {
      "text/plain": [
       "(240, 12)"
      ]
     },
     "execution_count": 20,
     "metadata": {},
     "output_type": "execute_result"
    }
   ],
   "source": [
    "retailer_beat_map_df[\"Retailer_ID\"].nunique(), retailer_beat_map_df[\"Beat_ID\"].nunique()"
   ]
  },
  {
   "cell_type": "code",
   "execution_count": 21,
   "id": "95fc7f03",
   "metadata": {},
   "outputs": [
    {
     "data": {
      "text/plain": [
       "Beat_ID\n",
       "B011    29\n",
       "B002    23\n",
       "B006    21\n",
       "B001    21\n",
       "B008    20\n",
       "B010    20\n",
       "B004    20\n",
       "B005    20\n",
       "B012    19\n",
       "B003    17\n",
       "B007    15\n",
       "B009    15\n",
       "Name: count, dtype: int64"
      ]
     },
     "execution_count": 21,
     "metadata": {},
     "output_type": "execute_result"
    }
   ],
   "source": [
    "retailer_beat_map_df['Beat_ID'].value_counts()"
   ]
  },
  {
   "cell_type": "code",
   "execution_count": 22,
   "id": "0fb845f4",
   "metadata": {},
   "outputs": [],
   "source": [
    "\n",
    "#Generate Visits and Sales\n",
    "visits = []\n",
    "sales = []\n",
    "visit_stock = []\n",
    "invoice_counter = 1\n",
    "\n",
    "for i in range(NUM_VISITS):\n",
    "    visit_id = f\"V{i+1:05d}\"\n",
    "    retailer = random.choice(retailers)\n",
    "    date = datetime.now().date() - timedelta(days=random.randint(0, VISIT_DAYS_RANGE))\n",
    "    suggested = random.sample(product_ids, random.randint(1, 5))\n",
    "    feedback = fake.sentence(nb_words=10)\n",
    "    order_placed = random.random() < 0.6    #60% conversion rate\n",
    "    agent_id = retailer_agent_map[retailer[\"Retailer_ID\"]]\n",
    "\n",
    "\n",
    "    visits.append({\n",
    "        \"Visit_ID\": visit_id,\n",
    "        \"Retailer_ID\": retailer[\"Retailer_ID\"],\n",
    "        \"Date\": date.isoformat(),\n",
    "        \"Products_Suggested\": \", \".join(suggested),\n",
    "        \"Feedback\": feedback,\n",
    "        \"Order_Placed\": int(order_placed),\n",
    "        \"Agent_ID\": agent_id\n",
    "    })\n",
    "\n",
    "    for sku in random.sample(product_ids, random.randint(2, 6)):\n",
    "        visit_stock.append({\n",
    "            \"Visit_ID\": visit_id,\n",
    "            \"Product_ID\": sku,\n",
    "            \"Retailer_ID\": retailer[\"Retailer_ID\"],\n",
    "            \"Available_Stock\": random.randint(0, 10)\n",
    "        })\n",
    "\n",
    "    if order_placed:\n",
    "        chosen_products = random.sample(suggested, min(3, len(suggested)))\n",
    "        for pid in chosen_products:\n",
    "            quantity = random.randint(1, 10)\n",
    "            price = float(products_df.loc[products_df[\"Product_ID\"] == pid, \"Price\"].values[0])\n",
    "            sales.append({\n",
    "                \"Invoice_ID\": f\"INV{invoice_counter:06d}\",\n",
    "                \"Visit_ID\": visit_id,\n",
    "                \"Retailer_ID\": retailer[\"Retailer_ID\"],\n",
    "                \"Product_ID\": pid,\n",
    "                \"Quantity\": quantity,\n",
    "                \"Date\": date.isoformat(),\n",
    "                \"Total_Amount\": round(quantity * price, 2)\n",
    "            })\n",
    "        invoice_counter += 1\n",
    "\n",
    "\n",
    "\n",
    "visits_df = pd.DataFrame(visits)\n",
    "visit_stock_df = pd.DataFrame(visit_stock)\n",
    "sales_df = pd.DataFrame(sales)"
   ]
  },
  {
   "cell_type": "code",
   "execution_count": 23,
   "id": "9f8e1082",
   "metadata": {},
   "outputs": [
    {
     "data": {
      "text/html": [
       "<div>\n",
       "<style scoped>\n",
       "    .dataframe tbody tr th:only-of-type {\n",
       "        vertical-align: middle;\n",
       "    }\n",
       "\n",
       "    .dataframe tbody tr th {\n",
       "        vertical-align: top;\n",
       "    }\n",
       "\n",
       "    .dataframe thead th {\n",
       "        text-align: right;\n",
       "    }\n",
       "</style>\n",
       "<table border=\"1\" class=\"dataframe\">\n",
       "  <thead>\n",
       "    <tr style=\"text-align: right;\">\n",
       "      <th></th>\n",
       "      <th>Visit_ID</th>\n",
       "      <th>Retailer_ID</th>\n",
       "      <th>Date</th>\n",
       "      <th>Products_Suggested</th>\n",
       "      <th>Feedback</th>\n",
       "      <th>Order_Placed</th>\n",
       "      <th>Agent_ID</th>\n",
       "    </tr>\n",
       "  </thead>\n",
       "  <tbody>\n",
       "    <tr>\n",
       "      <th>0</th>\n",
       "      <td>V00001</td>\n",
       "      <td>R0038</td>\n",
       "      <td>2025-06-09</td>\n",
       "      <td>P018, P040</td>\n",
       "      <td>Policy fear part factor bag with window finish...</td>\n",
       "      <td>0</td>\n",
       "      <td>A001</td>\n",
       "    </tr>\n",
       "    <tr>\n",
       "      <th>1</th>\n",
       "      <td>V00002</td>\n",
       "      <td>R0225</td>\n",
       "      <td>2024-10-03</td>\n",
       "      <td>P028, P029</td>\n",
       "      <td>Moment new near dream traditional to kind allo...</td>\n",
       "      <td>0</td>\n",
       "      <td>A002</td>\n",
       "    </tr>\n",
       "    <tr>\n",
       "      <th>2</th>\n",
       "      <td>V00003</td>\n",
       "      <td>R0096</td>\n",
       "      <td>2025-04-25</td>\n",
       "      <td>P005, P006, P028, P007</td>\n",
       "      <td>Group president Mrs data actually fast control.</td>\n",
       "      <td>0</td>\n",
       "      <td>A002</td>\n",
       "    </tr>\n",
       "    <tr>\n",
       "      <th>3</th>\n",
       "      <td>V00004</td>\n",
       "      <td>R0032</td>\n",
       "      <td>2024-12-14</td>\n",
       "      <td>P028, P004, P019</td>\n",
       "      <td>Moment other level arrive already fund perform...</td>\n",
       "      <td>0</td>\n",
       "      <td>A001</td>\n",
       "    </tr>\n",
       "    <tr>\n",
       "      <th>4</th>\n",
       "      <td>V00005</td>\n",
       "      <td>R0217</td>\n",
       "      <td>2025-05-18</td>\n",
       "      <td>P036, P024, P008</td>\n",
       "      <td>Economic by mission scene determine back groun...</td>\n",
       "      <td>0</td>\n",
       "      <td>A001</td>\n",
       "    </tr>\n",
       "  </tbody>\n",
       "</table>\n",
       "</div>"
      ],
      "text/plain": [
       "  Visit_ID Retailer_ID        Date      Products_Suggested  \\\n",
       "0   V00001       R0038  2025-06-09              P018, P040   \n",
       "1   V00002       R0225  2024-10-03              P028, P029   \n",
       "2   V00003       R0096  2025-04-25  P005, P006, P028, P007   \n",
       "3   V00004       R0032  2024-12-14        P028, P004, P019   \n",
       "4   V00005       R0217  2025-05-18        P036, P024, P008   \n",
       "\n",
       "                                            Feedback  Order_Placed Agent_ID  \n",
       "0  Policy fear part factor bag with window finish...             0     A001  \n",
       "1  Moment new near dream traditional to kind allo...             0     A002  \n",
       "2    Group president Mrs data actually fast control.             0     A002  \n",
       "3  Moment other level arrive already fund perform...             0     A001  \n",
       "4  Economic by mission scene determine back groun...             0     A001  "
      ]
     },
     "execution_count": 23,
     "metadata": {},
     "output_type": "execute_result"
    }
   ],
   "source": [
    "visits_df.head()"
   ]
  },
  {
   "cell_type": "code",
   "execution_count": 24,
   "id": "cab0cb6c",
   "metadata": {},
   "outputs": [
    {
     "data": {
      "text/plain": [
       "(10000, 7)"
      ]
     },
     "execution_count": 24,
     "metadata": {},
     "output_type": "execute_result"
    }
   ],
   "source": [
    "visits_df.shape"
   ]
  },
  {
   "cell_type": "code",
   "execution_count": 25,
   "id": "f83cc86e",
   "metadata": {},
   "outputs": [
    {
     "data": {
      "text/plain": [
       "240"
      ]
     },
     "execution_count": 25,
     "metadata": {},
     "output_type": "execute_result"
    }
   ],
   "source": [
    "visits_df['Retailer_ID'].nunique()"
   ]
  },
  {
   "cell_type": "code",
   "execution_count": 26,
   "id": "3dfa973e",
   "metadata": {},
   "outputs": [
    {
     "data": {
      "text/plain": [
       "Order_Placed\n",
       "1    59.99\n",
       "0    40.01\n",
       "Name: proportion, dtype: float64"
      ]
     },
     "execution_count": 26,
     "metadata": {},
     "output_type": "execute_result"
    }
   ],
   "source": [
    "visits_df['Order_Placed'].value_counts(normalize=True)*100"
   ]
  },
  {
   "cell_type": "code",
   "execution_count": 27,
   "id": "a70e1815",
   "metadata": {},
   "outputs": [
    {
     "data": {
      "text/plain": [
       "Retailer_ID    240\n",
       "dtype: int64"
      ]
     },
     "execution_count": 27,
     "metadata": {},
     "output_type": "execute_result"
    }
   ],
   "source": [
    "visits_df[visits_df[\"Order_Placed\"] == 1][['Retailer_ID']].nunique()"
   ]
  },
  {
   "cell_type": "code",
   "execution_count": 28,
   "id": "fe78e75f",
   "metadata": {},
   "outputs": [
    {
     "data": {
      "text/html": [
       "<div>\n",
       "<style scoped>\n",
       "    .dataframe tbody tr th:only-of-type {\n",
       "        vertical-align: middle;\n",
       "    }\n",
       "\n",
       "    .dataframe tbody tr th {\n",
       "        vertical-align: top;\n",
       "    }\n",
       "\n",
       "    .dataframe thead th {\n",
       "        text-align: right;\n",
       "    }\n",
       "</style>\n",
       "<table border=\"1\" class=\"dataframe\">\n",
       "  <thead>\n",
       "    <tr style=\"text-align: right;\">\n",
       "      <th></th>\n",
       "      <th>Invoice_ID</th>\n",
       "      <th>Visit_ID</th>\n",
       "      <th>Retailer_ID</th>\n",
       "      <th>Product_ID</th>\n",
       "      <th>Quantity</th>\n",
       "      <th>Date</th>\n",
       "      <th>Total_Amount</th>\n",
       "    </tr>\n",
       "  </thead>\n",
       "  <tbody>\n",
       "    <tr>\n",
       "      <th>0</th>\n",
       "      <td>INV000001</td>\n",
       "      <td>V00006</td>\n",
       "      <td>R0002</td>\n",
       "      <td>P026</td>\n",
       "      <td>6</td>\n",
       "      <td>2025-04-11</td>\n",
       "      <td>164.22</td>\n",
       "    </tr>\n",
       "    <tr>\n",
       "      <th>1</th>\n",
       "      <td>INV000001</td>\n",
       "      <td>V00006</td>\n",
       "      <td>R0002</td>\n",
       "      <td>P037</td>\n",
       "      <td>3</td>\n",
       "      <td>2025-04-11</td>\n",
       "      <td>1374.48</td>\n",
       "    </tr>\n",
       "    <tr>\n",
       "      <th>2</th>\n",
       "      <td>INV000002</td>\n",
       "      <td>V00008</td>\n",
       "      <td>R0114</td>\n",
       "      <td>P032</td>\n",
       "      <td>5</td>\n",
       "      <td>2024-08-08</td>\n",
       "      <td>499.30</td>\n",
       "    </tr>\n",
       "    <tr>\n",
       "      <th>3</th>\n",
       "      <td>INV000002</td>\n",
       "      <td>V00008</td>\n",
       "      <td>R0114</td>\n",
       "      <td>P027</td>\n",
       "      <td>4</td>\n",
       "      <td>2024-08-08</td>\n",
       "      <td>223.68</td>\n",
       "    </tr>\n",
       "    <tr>\n",
       "      <th>4</th>\n",
       "      <td>INV000002</td>\n",
       "      <td>V00008</td>\n",
       "      <td>R0114</td>\n",
       "      <td>P029</td>\n",
       "      <td>3</td>\n",
       "      <td>2024-08-08</td>\n",
       "      <td>962.58</td>\n",
       "    </tr>\n",
       "  </tbody>\n",
       "</table>\n",
       "</div>"
      ],
      "text/plain": [
       "  Invoice_ID Visit_ID Retailer_ID Product_ID  Quantity        Date  \\\n",
       "0  INV000001   V00006       R0002       P026         6  2025-04-11   \n",
       "1  INV000001   V00006       R0002       P037         3  2025-04-11   \n",
       "2  INV000002   V00008       R0114       P032         5  2024-08-08   \n",
       "3  INV000002   V00008       R0114       P027         4  2024-08-08   \n",
       "4  INV000002   V00008       R0114       P029         3  2024-08-08   \n",
       "\n",
       "   Total_Amount  \n",
       "0        164.22  \n",
       "1       1374.48  \n",
       "2        499.30  \n",
       "3        223.68  \n",
       "4        962.58  "
      ]
     },
     "execution_count": 28,
     "metadata": {},
     "output_type": "execute_result"
    }
   ],
   "source": [
    "sales_df.head()"
   ]
  },
  {
   "cell_type": "code",
   "execution_count": 29,
   "id": "a7d11fcc",
   "metadata": {},
   "outputs": [
    {
     "data": {
      "text/plain": [
       "(14527, 7)"
      ]
     },
     "execution_count": 29,
     "metadata": {},
     "output_type": "execute_result"
    }
   ],
   "source": [
    "sales_df.shape"
   ]
  },
  {
   "cell_type": "code",
   "execution_count": 30,
   "id": "41014ab6",
   "metadata": {},
   "outputs": [
    {
     "data": {
      "text/plain": [
       "('2024-07-12', '2025-07-12')"
      ]
     },
     "execution_count": 30,
     "metadata": {},
     "output_type": "execute_result"
    }
   ],
   "source": [
    "sales_df['Date'].min(), sales_df['Date'].max()"
   ]
  },
  {
   "cell_type": "code",
   "execution_count": 31,
   "id": "4c2c2fad",
   "metadata": {},
   "outputs": [
    {
     "data": {
      "text/plain": [
       "(240, 40)"
      ]
     },
     "execution_count": 31,
     "metadata": {},
     "output_type": "execute_result"
    }
   ],
   "source": [
    "sales_df['Retailer_ID'].nunique(), sales_df['Product_ID'].nunique()"
   ]
  },
  {
   "cell_type": "code",
   "execution_count": 32,
   "id": "0ea1573d",
   "metadata": {},
   "outputs": [],
   "source": [
    "#Drop invalid sales\n",
    "valid_visits = visits_df[visits_df[\"Order_Placed\"] == 1][[\"Visit_ID\", \"Retailer_ID\"]]\n",
    "sales_df = sales_df.merge(valid_visits, on=[\"Visit_ID\", \"Retailer_ID\"], how=\"inner\")"
   ]
  },
  {
   "cell_type": "code",
   "execution_count": 33,
   "id": "45b1fc7f",
   "metadata": {},
   "outputs": [
    {
     "data": {
      "text/plain": [
       "240"
      ]
     },
     "execution_count": 33,
     "metadata": {},
     "output_type": "execute_result"
    }
   ],
   "source": [
    "sales_df['Retailer_ID'].nunique()"
   ]
  },
  {
   "cell_type": "code",
   "execution_count": 34,
   "id": "2cf1978e",
   "metadata": {},
   "outputs": [
    {
     "data": {
      "text/plain": [
       "5999"
      ]
     },
     "execution_count": 34,
     "metadata": {},
     "output_type": "execute_result"
    }
   ],
   "source": [
    "sales_df['Visit_ID'].nunique()"
   ]
  },
  {
   "cell_type": "code",
   "execution_count": 35,
   "id": "8b928a1a",
   "metadata": {},
   "outputs": [
    {
     "name": "stdout",
     "output_type": "stream",
     "text": [
      "DB created and populated successfully: sales_agent_co_pilot.db\n"
     ]
    }
   ],
   "source": [
    "#Insert Data into DB\n",
    "retailers_df.to_sql(\"retailers\", conn, if_exists=\"append\", index=False)\n",
    "products_df.to_sql(\"products\", conn, if_exists=\"append\", index=False)\n",
    "agents_df.to_sql(\"sales_agents\", conn, if_exists=\"append\", index=False)\n",
    "beats_df.to_sql(\"beats\", conn, if_exists=\"append\", index=False)\n",
    "retailer_beat_map_df[[\"Retailer_ID\", \"Beat_ID\"]].to_sql(\"retailer_beat_map\", conn, if_exists=\"append\", index=False)\n",
    "visits_df.to_sql(\"visits\", conn, if_exists=\"append\", index=False)\n",
    "sales_df.to_sql(\"sales\", conn, if_exists=\"append\", index=False)\n",
    "visit_stock_df.to_sql(\"visit_stock\", conn, if_exists=\"append\", index=False)\n",
    "\n",
    "conn.commit()\n",
    "\n",
    "print(f\"DB created and populated successfully: {DB_PATH}\")"
   ]
  },
  {
   "cell_type": "code",
   "execution_count": 36,
   "id": "87d7e8ff",
   "metadata": {},
   "outputs": [
    {
     "data": {
      "text/plain": [
       "{'Retailer count': [(240,)],\n",
       " 'Product count': [(40,)],\n",
       " 'Visit count': [(10000,)],\n",
       " 'Sales count': [(14527,)],\n",
       " 'Sample 5 visits with order placed': [('V00006',\n",
       "   'R0002',\n",
       "   '2025-04-11',\n",
       "   'P037, P026',\n",
       "   'Property pressure science nature including season station else detail staff can.',\n",
       "   1,\n",
       "   'A002'),\n",
       "  ('V00008',\n",
       "   'R0114',\n",
       "   '2024-08-08',\n",
       "   'P032, P039, P029, P027',\n",
       "   'Tree want behind discover glass particular.',\n",
       "   1,\n",
       "   'A002'),\n",
       "  ('V00009',\n",
       "   'R0196',\n",
       "   '2025-03-04',\n",
       "   'P021, P008, P001',\n",
       "   'Television include dark fish candidate front heavy.',\n",
       "   1,\n",
       "   'A002'),\n",
       "  ('V00010',\n",
       "   'R0221',\n",
       "   '2025-02-02',\n",
       "   'P028, P037, P026, P027, P019',\n",
       "   'Test night daughter themselves fall painting measure place memory show sport.',\n",
       "   1,\n",
       "   'A002'),\n",
       "  ('V00011',\n",
       "   'R0151',\n",
       "   '2024-12-19',\n",
       "   'P006, P026, P020, P022, P015',\n",
       "   'The special yeah evening already structure.',\n",
       "   1,\n",
       "   'A001')],\n",
       " 'Sample 5 sales entries': [('INV000001',\n",
       "   'V00006',\n",
       "   'R0002',\n",
       "   'P026',\n",
       "   6,\n",
       "   '2025-04-11',\n",
       "   164.22),\n",
       "  ('INV000001', 'V00006', 'R0002', 'P037', 3, '2025-04-11', 1374.48),\n",
       "  ('INV000002', 'V00008', 'R0114', 'P032', 5, '2024-08-08', 499.3),\n",
       "  ('INV000002', 'V00008', 'R0114', 'P027', 4, '2024-08-08', 223.68),\n",
       "  ('INV000002', 'V00008', 'R0114', 'P029', 3, '2024-08-08', 962.58)],\n",
       " 'Sales joined with products': [('INV000001',\n",
       "   '2025-04-11',\n",
       "   6,\n",
       "   164.22,\n",
       "   'Health Product 26',\n",
       "   'Nutrition'),\n",
       "  ('INV000001',\n",
       "   '2025-04-11',\n",
       "   3,\n",
       "   1374.48,\n",
       "   'Personal Care Product 37',\n",
       "   'Nutrition'),\n",
       "  ('INV000002', '2024-08-08', 5, 499.3, 'Health Product 32', 'Nutrition'),\n",
       "  ('INV000002',\n",
       "   '2024-08-08',\n",
       "   4,\n",
       "   223.68,\n",
       "   'Nutrition Product 27',\n",
       "   'Personal Care'),\n",
       "  ('INV000002', '2024-08-08', 3, 962.58, 'Nutrition Product 29', 'Beverages')],\n",
       " 'Invalid sales check (should be 0 rows)': []}"
      ]
     },
     "execution_count": 36,
     "metadata": {},
     "output_type": "execute_result"
    }
   ],
   "source": [
    "queries = {\n",
    "    \"Retailer count\": \"SELECT COUNT(*) FROM retailers;\",\n",
    "    \"Product count\": \"SELECT COUNT(*) FROM products;\",\n",
    "    \"Visit count\": \"SELECT COUNT(*) FROM visits;\",\n",
    "    \"Sales count\": \"SELECT COUNT(*) FROM sales;\",\n",
    "    \"Sample 5 visits with order placed\": \"SELECT * FROM visits WHERE Order_Placed = 1 LIMIT 5;\",\n",
    "    \"Sample 5 sales entries\": \"SELECT * FROM sales LIMIT 5;\",\n",
    "    \"Sales joined with products\": \"\"\"\n",
    "        SELECT s.Invoice_ID, s.Date, s.Quantity, s.Total_Amount, p.Product_Name, p.Category\n",
    "        FROM sales s\n",
    "        JOIN products p ON s.Product_ID = p.Product_ID\n",
    "        LIMIT 5;\n",
    "    \"\"\",\n",
    "    \"Invalid sales check (should be 0 rows)\": \"\"\"\n",
    "        SELECT s.*\n",
    "        FROM sales s\n",
    "        LEFT JOIN visits v ON s.Visit_ID = v.Visit_ID AND s.Retailer_ID = v.Retailer_ID\n",
    "        WHERE v.Order_Placed != 1 OR v.Order_Placed IS NULL;\n",
    "    \"\"\"\n",
    "}\n",
    "\n",
    "results = {}\n",
    "for label, query in queries.items():\n",
    "    cursor.execute(query)\n",
    "    results[label] = cursor.fetchall()\n",
    "\n",
    "\n",
    "results\n"
   ]
  },
  {
   "cell_type": "code",
   "execution_count": 37,
   "id": "0506b1e8",
   "metadata": {},
   "outputs": [],
   "source": [
    "conn.close()"
   ]
  },
  {
   "cell_type": "code",
   "execution_count": null,
   "id": "333f39ed",
   "metadata": {},
   "outputs": [],
   "source": []
  },
  {
   "cell_type": "code",
   "execution_count": null,
   "id": "8e84995e",
   "metadata": {},
   "outputs": [],
   "source": []
  }
 ],
 "metadata": {
  "kernelspec": {
   "display_name": "salesagent",
   "language": "python",
   "name": "python3"
  },
  "language_info": {
   "codemirror_mode": {
    "name": "ipython",
    "version": 3
   },
   "file_extension": ".py",
   "mimetype": "text/x-python",
   "name": "python",
   "nbconvert_exporter": "python",
   "pygments_lexer": "ipython3",
   "version": "3.12.9"
  }
 },
 "nbformat": 4,
 "nbformat_minor": 5
}
