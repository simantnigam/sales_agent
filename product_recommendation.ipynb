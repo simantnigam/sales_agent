{
 "cells": [
  {
   "cell_type": "code",
   "execution_count": 1,
   "id": "10845055",
   "metadata": {},
   "outputs": [],
   "source": [
    "import sqlite3\n",
    "import pandas as pd\n",
    "import numpy as np\n",
    "from datetime import datetime, timedelta\n",
    "from sklearn.ensemble import RandomForestClassifier\n",
    "from sklearn.model_selection import train_test_split\n",
    "from sklearn.preprocessing import LabelEncoder"
   ]
  },
  {
   "cell_type": "code",
   "execution_count": 2,
   "id": "a824be01",
   "metadata": {},
   "outputs": [],
   "source": [
    "conn = sqlite3.connect(\"sales_agent_co_pilot.db\")\n",
    "cursor = conn.cursor()"
   ]
  },
  {
   "cell_type": "code",
   "execution_count": 3,
   "id": "8aad96aa",
   "metadata": {},
   "outputs": [],
   "source": [
    "sales = pd.read_sql(\"SELECT * FROM sales\", conn)\n",
    "visits = pd.read_sql(\"SELECT * FROM visits\", conn)\n",
    "visit_stock = pd.read_sql(\"SELECT * FROM visit_stock\", conn)\n",
    "retailers = pd.read_sql(\"SELECT * FROM retailers\", conn)\n",
    "products = pd.read_sql(\"SELECT * FROM products\", conn)"
   ]
  },
  {
   "cell_type": "code",
   "execution_count": 4,
   "id": "028eb9bf",
   "metadata": {},
   "outputs": [],
   "source": [
    "#Feature Engineering\n",
    "\n"
   ]
  },
  {
   "cell_type": "code",
   "execution_count": 5,
   "id": "f02dc250",
   "metadata": {},
   "outputs": [],
   "source": [
    "sales['Date'] = pd.to_datetime(sales['Date'])"
   ]
  },
  {
   "cell_type": "code",
   "execution_count": 6,
   "id": "d0db35d9",
   "metadata": {},
   "outputs": [
    {
     "data": {
      "text/plain": [
       "(2984, 3)"
      ]
     },
     "execution_count": 6,
     "metadata": {},
     "output_type": "execute_result"
    }
   ],
   "source": [
    "cutoff_date = datetime.today() - timedelta(days=90)\n",
    "recent_sales = sales[sales[\"Date\"] >= cutoff_date]\n",
    "recent_counts = recent_sales.groupby([\"Retailer_ID\", \"Product_ID\"]).size().reset_index(name=\"Recent_Purchase_Count\")\n",
    "recent_counts.shape"
   ]
  },
  {
   "cell_type": "code",
   "execution_count": 7,
   "id": "52ff9e57",
   "metadata": {},
   "outputs": [],
   "source": [
    "retailer_city_map = retailers[[\"Retailer_ID\", \"City\"]]\n",
    "sales_with_city = sales.merge(retailer_city_map, on=\"Retailer_ID\", how=\"left\")\n",
    "city_popularity = sales_with_city.groupby([\"City\", \"Product_ID\"]).size().reset_index(name=\"City_Purchase_Count\")\n"
   ]
  },
  {
   "cell_type": "code",
   "execution_count": 8,
   "id": "c67b9994",
   "metadata": {},
   "outputs": [
    {
     "data": {
      "application/vnd.microsoft.datawrangler.viewer.v0+json": {
       "columns": [
        {
         "name": "index",
         "rawType": "int64",
         "type": "integer"
        },
        {
         "name": "City",
         "rawType": "object",
         "type": "string"
        },
        {
         "name": "Product_ID",
         "rawType": "object",
         "type": "string"
        },
        {
         "name": "City_Purchase_Count",
         "rawType": "int64",
         "type": "integer"
        }
       ],
       "ref": "bbdd70c8-0ad0-4af7-8702-aff2cc3c661b",
       "rows": [
        [
         "28",
         "Bengaluru",
         "P029",
         "400"
        ],
        [
         "12",
         "Bengaluru",
         "P013",
         "392"
        ],
        [
         "1",
         "Bengaluru",
         "P002",
         "388"
        ],
        [
         "37",
         "Bengaluru",
         "P038",
         "388"
        ],
        [
         "32",
         "Bengaluru",
         "P033",
         "385"
        ]
       ],
       "shape": {
        "columns": 3,
        "rows": 5
       }
      },
      "text/html": [
       "<div>\n",
       "<style scoped>\n",
       "    .dataframe tbody tr th:only-of-type {\n",
       "        vertical-align: middle;\n",
       "    }\n",
       "\n",
       "    .dataframe tbody tr th {\n",
       "        vertical-align: top;\n",
       "    }\n",
       "\n",
       "    .dataframe thead th {\n",
       "        text-align: right;\n",
       "    }\n",
       "</style>\n",
       "<table border=\"1\" class=\"dataframe\">\n",
       "  <thead>\n",
       "    <tr style=\"text-align: right;\">\n",
       "      <th></th>\n",
       "      <th>City</th>\n",
       "      <th>Product_ID</th>\n",
       "      <th>City_Purchase_Count</th>\n",
       "    </tr>\n",
       "  </thead>\n",
       "  <tbody>\n",
       "    <tr>\n",
       "      <th>28</th>\n",
       "      <td>Bengaluru</td>\n",
       "      <td>P029</td>\n",
       "      <td>400</td>\n",
       "    </tr>\n",
       "    <tr>\n",
       "      <th>12</th>\n",
       "      <td>Bengaluru</td>\n",
       "      <td>P013</td>\n",
       "      <td>392</td>\n",
       "    </tr>\n",
       "    <tr>\n",
       "      <th>1</th>\n",
       "      <td>Bengaluru</td>\n",
       "      <td>P002</td>\n",
       "      <td>388</td>\n",
       "    </tr>\n",
       "    <tr>\n",
       "      <th>37</th>\n",
       "      <td>Bengaluru</td>\n",
       "      <td>P038</td>\n",
       "      <td>388</td>\n",
       "    </tr>\n",
       "    <tr>\n",
       "      <th>32</th>\n",
       "      <td>Bengaluru</td>\n",
       "      <td>P033</td>\n",
       "      <td>385</td>\n",
       "    </tr>\n",
       "  </tbody>\n",
       "</table>\n",
       "</div>"
      ],
      "text/plain": [
       "         City Product_ID  City_Purchase_Count\n",
       "28  Bengaluru       P029                  400\n",
       "12  Bengaluru       P013                  392\n",
       "1   Bengaluru       P002                  388\n",
       "37  Bengaluru       P038                  388\n",
       "32  Bengaluru       P033                  385"
      ]
     },
     "execution_count": 8,
     "metadata": {},
     "output_type": "execute_result"
    }
   ],
   "source": [
    "city_popularity.sort_values(by=[\"City\", \"City_Purchase_Count\"], ascending=[True, False], inplace=True)\n",
    "city_popularity.head()"
   ]
  },
  {
   "cell_type": "code",
   "execution_count": 9,
   "id": "f81d6fd9",
   "metadata": {},
   "outputs": [
    {
     "data": {
      "application/vnd.microsoft.datawrangler.viewer.v0+json": {
       "columns": [
        {
         "name": "index",
         "rawType": "int64",
         "type": "integer"
        },
        {
         "name": "Channel",
         "rawType": "object",
         "type": "string"
        },
        {
         "name": "Product_ID",
         "rawType": "object",
         "type": "string"
        },
        {
         "name": "Channel_Purchase_Count",
         "rawType": "int64",
         "type": "integer"
        }
       ],
       "ref": "e9ed8af9-ca94-4216-9b2a-12957569bf55",
       "rows": [
        [
         "2",
         "General Trade",
         "P003",
         "120"
        ],
        [
         "6",
         "General Trade",
         "P007",
         "119"
        ],
        [
         "5",
         "General Trade",
         "P006",
         "118"
        ],
        [
         "18",
         "General Trade",
         "P019",
         "117"
        ],
        [
         "38",
         "General Trade",
         "P039",
         "117"
        ]
       ],
       "shape": {
        "columns": 3,
        "rows": 5
       }
      },
      "text/html": [
       "<div>\n",
       "<style scoped>\n",
       "    .dataframe tbody tr th:only-of-type {\n",
       "        vertical-align: middle;\n",
       "    }\n",
       "\n",
       "    .dataframe tbody tr th {\n",
       "        vertical-align: top;\n",
       "    }\n",
       "\n",
       "    .dataframe thead th {\n",
       "        text-align: right;\n",
       "    }\n",
       "</style>\n",
       "<table border=\"1\" class=\"dataframe\">\n",
       "  <thead>\n",
       "    <tr style=\"text-align: right;\">\n",
       "      <th></th>\n",
       "      <th>Channel</th>\n",
       "      <th>Product_ID</th>\n",
       "      <th>Channel_Purchase_Count</th>\n",
       "    </tr>\n",
       "  </thead>\n",
       "  <tbody>\n",
       "    <tr>\n",
       "      <th>2</th>\n",
       "      <td>General Trade</td>\n",
       "      <td>P003</td>\n",
       "      <td>120</td>\n",
       "    </tr>\n",
       "    <tr>\n",
       "      <th>6</th>\n",
       "      <td>General Trade</td>\n",
       "      <td>P007</td>\n",
       "      <td>119</td>\n",
       "    </tr>\n",
       "    <tr>\n",
       "      <th>5</th>\n",
       "      <td>General Trade</td>\n",
       "      <td>P006</td>\n",
       "      <td>118</td>\n",
       "    </tr>\n",
       "    <tr>\n",
       "      <th>18</th>\n",
       "      <td>General Trade</td>\n",
       "      <td>P019</td>\n",
       "      <td>117</td>\n",
       "    </tr>\n",
       "    <tr>\n",
       "      <th>38</th>\n",
       "      <td>General Trade</td>\n",
       "      <td>P039</td>\n",
       "      <td>117</td>\n",
       "    </tr>\n",
       "  </tbody>\n",
       "</table>\n",
       "</div>"
      ],
      "text/plain": [
       "          Channel Product_ID  Channel_Purchase_Count\n",
       "2   General Trade       P003                     120\n",
       "6   General Trade       P007                     119\n",
       "5   General Trade       P006                     118\n",
       "18  General Trade       P019                     117\n",
       "38  General Trade       P039                     117"
      ]
     },
     "execution_count": 9,
     "metadata": {},
     "output_type": "execute_result"
    }
   ],
   "source": [
    "channel_map = retailers[[\"Retailer_ID\", \"Channel\"]]\n",
    "sales_with_channel = sales.merge(channel_map, on=\"Retailer_ID\", how=\"left\")\n",
    "channel_popularity = sales_with_channel.groupby([\"Channel\", \"Product_ID\"]).size().reset_index(name=\"Channel_Purchase_Count\")\n",
    "channel_popularity.sort_values(by=[\"Channel\", \"Channel_Purchase_Count\"], ascending=[True, False], inplace=True)\n",
    "channel_popularity.head()"
   ]
  },
  {
   "cell_type": "code",
   "execution_count": 10,
   "id": "49d0d800",
   "metadata": {},
   "outputs": [],
   "source": [
    "all_retailer_product = pd.merge(retailers[[\"Retailer_ID\", \"City\", \"Channel\"]],\n",
    "                                products[[\"Product_ID\"]],\n",
    "                                how=\"cross\")"
   ]
  },
  {
   "cell_type": "code",
   "execution_count": 11,
   "id": "13c323f6",
   "metadata": {},
   "outputs": [],
   "source": [
    "data = all_retailer_product.merge(recent_counts, on=[\"Retailer_ID\", \"Product_ID\"], how=\"left\")\n",
    "data = data.merge(city_popularity, on=[\"City\", \"Product_ID\"], how=\"left\")\n",
    "data = data.merge(channel_popularity, on=[\"Channel\", \"Product_ID\"], how=\"left\")\n",
    "data.fillna(0, inplace=True)"
   ]
  },
  {
   "cell_type": "code",
   "execution_count": 12,
   "id": "0e7f83c3",
   "metadata": {},
   "outputs": [
    {
     "data": {
      "text/plain": [
       "(9600, 7)"
      ]
     },
     "execution_count": 12,
     "metadata": {},
     "output_type": "execute_result"
    }
   ],
   "source": [
    "data.shape"
   ]
  },
  {
   "cell_type": "code",
   "execution_count": 13,
   "id": "e5482c53",
   "metadata": {},
   "outputs": [
    {
     "data": {
      "text/plain": [
       "{'Recent_Purchase_Count': np.float64(0.0),\n",
       " 'City_Purchase_Count': np.float64(363.0),\n",
       " 'Channel_Purchase_Count': np.float64(93.0)}"
      ]
     },
     "execution_count": 13,
     "metadata": {},
     "output_type": "execute_result"
    }
   ],
   "source": [
    "thresholds = {\n",
    "    \"Recent_Purchase_Count\": data[\"Recent_Purchase_Count\"].median(),\n",
    "    \"City_Purchase_Count\": data[\"City_Purchase_Count\"].median(),\n",
    "    \"Channel_Purchase_Count\": data[\"Channel_Purchase_Count\"].median()\n",
    "}\n",
    "\n",
    "thresholds"
   ]
  },
  {
   "cell_type": "code",
   "execution_count": 14,
   "id": "f2cc0987",
   "metadata": {},
   "outputs": [],
   "source": [
    "RULES = [\n",
    "    {\n",
    "        \"column\": \"Recent_Purchase_Count\",\n",
    "        \"condition\": lambda x, t=thresholds[\"Recent_Purchase_Count\"]: x > t,\n",
    "        \"score\": 3\n",
    "    },\n",
    "    {\n",
    "        \"column\": \"City_Purchase_Count\",\n",
    "        \"condition\": lambda x, t=thresholds[\"City_Purchase_Count\"]: x > t,\n",
    "        \"score\": 2\n",
    "    },\n",
    "    {\n",
    "        \"column\": \"Channel_Purchase_Count\",\n",
    "        \"condition\": lambda x, t=thresholds[\"Channel_Purchase_Count\"]: x > t,\n",
    "        \"score\": 1\n",
    "    }\n",
    "]"
   ]
  },
  {
   "cell_type": "code",
   "execution_count": 15,
   "id": "c19e8ff0",
   "metadata": {},
   "outputs": [],
   "source": [
    "def dynamic_rule_score(row, rules=RULES):\n",
    "    score = 0\n",
    "    for rule in rules:\n",
    "        value = row.get(rule[\"column\"], 0)\n",
    "        if rule[\"condition\"](value):\n",
    "            score += rule[\"score\"]\n",
    "    return score"
   ]
  },
  {
   "cell_type": "code",
   "execution_count": 16,
   "id": "91def604",
   "metadata": {},
   "outputs": [],
   "source": [
    "data[\"Rule_Score\"] = data.apply(dynamic_rule_score, axis=1)"
   ]
  },
  {
   "cell_type": "code",
   "execution_count": 17,
   "id": "7ad74159",
   "metadata": {},
   "outputs": [],
   "source": [
    "#Prepare ML Model Input"
   ]
  },
  {
   "cell_type": "code",
   "execution_count": 18,
   "id": "b57f15d0",
   "metadata": {},
   "outputs": [
    {
     "data": {
      "application/vnd.microsoft.datawrangler.viewer.v0+json": {
       "columns": [
        {
         "name": "Recent_Purchase_Count",
         "rawType": "int64",
         "type": "integer"
        },
        {
         "name": "count",
         "rawType": "int64",
         "type": "integer"
        }
       ],
       "ref": "8c96b542-3560-4178-b653-4fdae6aa0b21",
       "rows": [
        [
         "0",
         "6616"
        ],
        [
         "1",
         "2984"
        ]
       ],
       "shape": {
        "columns": 1,
        "rows": 2
       }
      },
      "text/plain": [
       "Recent_Purchase_Count\n",
       "0    6616\n",
       "1    2984\n",
       "Name: count, dtype: int64"
      ]
     },
     "execution_count": 18,
     "metadata": {},
     "output_type": "execute_result"
    }
   ],
   "source": [
    "(data[\"Recent_Purchase_Count\"] > 0).astype(int).value_counts()"
   ]
  },
  {
   "cell_type": "code",
   "execution_count": 19,
   "id": "8a4f435b",
   "metadata": {},
   "outputs": [],
   "source": [
    "data[\"Purchased_Label\"] = (data[\"Recent_Purchase_Count\"] > 0).astype(int)"
   ]
  },
  {
   "cell_type": "code",
   "execution_count": 20,
   "id": "4423f19b",
   "metadata": {},
   "outputs": [],
   "source": [
    "# Encode categorical vars\n",
    "le_city = LabelEncoder()\n",
    "le_channel = LabelEncoder()\n",
    "data[\"City_Enc\"] = le_city.fit_transform(data[\"City\"])\n",
    "data[\"Channel_Enc\"] = le_channel.fit_transform(data[\"Channel\"])"
   ]
  },
  {
   "cell_type": "code",
   "execution_count": 21,
   "id": "a977842f",
   "metadata": {},
   "outputs": [],
   "source": [
    "features = [\"City_Enc\", \"Channel_Enc\", \"City_Purchase_Count\", \"Channel_Purchase_Count\"]\n",
    "X = data[features]\n",
    "y = data[\"Purchased_Label\"]"
   ]
  },
  {
   "cell_type": "code",
   "execution_count": 22,
   "id": "d42f887f",
   "metadata": {},
   "outputs": [
    {
     "data": {
      "text/html": [
       "<style>#sk-container-id-1 {\n",
       "  /* Definition of color scheme common for light and dark mode */\n",
       "  --sklearn-color-text: #000;\n",
       "  --sklearn-color-text-muted: #666;\n",
       "  --sklearn-color-line: gray;\n",
       "  /* Definition of color scheme for unfitted estimators */\n",
       "  --sklearn-color-unfitted-level-0: #fff5e6;\n",
       "  --sklearn-color-unfitted-level-1: #f6e4d2;\n",
       "  --sklearn-color-unfitted-level-2: #ffe0b3;\n",
       "  --sklearn-color-unfitted-level-3: chocolate;\n",
       "  /* Definition of color scheme for fitted estimators */\n",
       "  --sklearn-color-fitted-level-0: #f0f8ff;\n",
       "  --sklearn-color-fitted-level-1: #d4ebff;\n",
       "  --sklearn-color-fitted-level-2: #b3dbfd;\n",
       "  --sklearn-color-fitted-level-3: cornflowerblue;\n",
       "\n",
       "  /* Specific color for light theme */\n",
       "  --sklearn-color-text-on-default-background: var(--sg-text-color, var(--theme-code-foreground, var(--jp-content-font-color1, black)));\n",
       "  --sklearn-color-background: var(--sg-background-color, var(--theme-background, var(--jp-layout-color0, white)));\n",
       "  --sklearn-color-border-box: var(--sg-text-color, var(--theme-code-foreground, var(--jp-content-font-color1, black)));\n",
       "  --sklearn-color-icon: #696969;\n",
       "\n",
       "  @media (prefers-color-scheme: dark) {\n",
       "    /* Redefinition of color scheme for dark theme */\n",
       "    --sklearn-color-text-on-default-background: var(--sg-text-color, var(--theme-code-foreground, var(--jp-content-font-color1, white)));\n",
       "    --sklearn-color-background: var(--sg-background-color, var(--theme-background, var(--jp-layout-color0, #111)));\n",
       "    --sklearn-color-border-box: var(--sg-text-color, var(--theme-code-foreground, var(--jp-content-font-color1, white)));\n",
       "    --sklearn-color-icon: #878787;\n",
       "  }\n",
       "}\n",
       "\n",
       "#sk-container-id-1 {\n",
       "  color: var(--sklearn-color-text);\n",
       "}\n",
       "\n",
       "#sk-container-id-1 pre {\n",
       "  padding: 0;\n",
       "}\n",
       "\n",
       "#sk-container-id-1 input.sk-hidden--visually {\n",
       "  border: 0;\n",
       "  clip: rect(1px 1px 1px 1px);\n",
       "  clip: rect(1px, 1px, 1px, 1px);\n",
       "  height: 1px;\n",
       "  margin: -1px;\n",
       "  overflow: hidden;\n",
       "  padding: 0;\n",
       "  position: absolute;\n",
       "  width: 1px;\n",
       "}\n",
       "\n",
       "#sk-container-id-1 div.sk-dashed-wrapped {\n",
       "  border: 1px dashed var(--sklearn-color-line);\n",
       "  margin: 0 0.4em 0.5em 0.4em;\n",
       "  box-sizing: border-box;\n",
       "  padding-bottom: 0.4em;\n",
       "  background-color: var(--sklearn-color-background);\n",
       "}\n",
       "\n",
       "#sk-container-id-1 div.sk-container {\n",
       "  /* jupyter's `normalize.less` sets `[hidden] { display: none; }`\n",
       "     but bootstrap.min.css set `[hidden] { display: none !important; }`\n",
       "     so we also need the `!important` here to be able to override the\n",
       "     default hidden behavior on the sphinx rendered scikit-learn.org.\n",
       "     See: https://github.com/scikit-learn/scikit-learn/issues/21755 */\n",
       "  display: inline-block !important;\n",
       "  position: relative;\n",
       "}\n",
       "\n",
       "#sk-container-id-1 div.sk-text-repr-fallback {\n",
       "  display: none;\n",
       "}\n",
       "\n",
       "div.sk-parallel-item,\n",
       "div.sk-serial,\n",
       "div.sk-item {\n",
       "  /* draw centered vertical line to link estimators */\n",
       "  background-image: linear-gradient(var(--sklearn-color-text-on-default-background), var(--sklearn-color-text-on-default-background));\n",
       "  background-size: 2px 100%;\n",
       "  background-repeat: no-repeat;\n",
       "  background-position: center center;\n",
       "}\n",
       "\n",
       "/* Parallel-specific style estimator block */\n",
       "\n",
       "#sk-container-id-1 div.sk-parallel-item::after {\n",
       "  content: \"\";\n",
       "  width: 100%;\n",
       "  border-bottom: 2px solid var(--sklearn-color-text-on-default-background);\n",
       "  flex-grow: 1;\n",
       "}\n",
       "\n",
       "#sk-container-id-1 div.sk-parallel {\n",
       "  display: flex;\n",
       "  align-items: stretch;\n",
       "  justify-content: center;\n",
       "  background-color: var(--sklearn-color-background);\n",
       "  position: relative;\n",
       "}\n",
       "\n",
       "#sk-container-id-1 div.sk-parallel-item {\n",
       "  display: flex;\n",
       "  flex-direction: column;\n",
       "}\n",
       "\n",
       "#sk-container-id-1 div.sk-parallel-item:first-child::after {\n",
       "  align-self: flex-end;\n",
       "  width: 50%;\n",
       "}\n",
       "\n",
       "#sk-container-id-1 div.sk-parallel-item:last-child::after {\n",
       "  align-self: flex-start;\n",
       "  width: 50%;\n",
       "}\n",
       "\n",
       "#sk-container-id-1 div.sk-parallel-item:only-child::after {\n",
       "  width: 0;\n",
       "}\n",
       "\n",
       "/* Serial-specific style estimator block */\n",
       "\n",
       "#sk-container-id-1 div.sk-serial {\n",
       "  display: flex;\n",
       "  flex-direction: column;\n",
       "  align-items: center;\n",
       "  background-color: var(--sklearn-color-background);\n",
       "  padding-right: 1em;\n",
       "  padding-left: 1em;\n",
       "}\n",
       "\n",
       "\n",
       "/* Toggleable style: style used for estimator/Pipeline/ColumnTransformer box that is\n",
       "clickable and can be expanded/collapsed.\n",
       "- Pipeline and ColumnTransformer use this feature and define the default style\n",
       "- Estimators will overwrite some part of the style using the `sk-estimator` class\n",
       "*/\n",
       "\n",
       "/* Pipeline and ColumnTransformer style (default) */\n",
       "\n",
       "#sk-container-id-1 div.sk-toggleable {\n",
       "  /* Default theme specific background. It is overwritten whether we have a\n",
       "  specific estimator or a Pipeline/ColumnTransformer */\n",
       "  background-color: var(--sklearn-color-background);\n",
       "}\n",
       "\n",
       "/* Toggleable label */\n",
       "#sk-container-id-1 label.sk-toggleable__label {\n",
       "  cursor: pointer;\n",
       "  display: flex;\n",
       "  width: 100%;\n",
       "  margin-bottom: 0;\n",
       "  padding: 0.5em;\n",
       "  box-sizing: border-box;\n",
       "  text-align: center;\n",
       "  align-items: start;\n",
       "  justify-content: space-between;\n",
       "  gap: 0.5em;\n",
       "}\n",
       "\n",
       "#sk-container-id-1 label.sk-toggleable__label .caption {\n",
       "  font-size: 0.6rem;\n",
       "  font-weight: lighter;\n",
       "  color: var(--sklearn-color-text-muted);\n",
       "}\n",
       "\n",
       "#sk-container-id-1 label.sk-toggleable__label-arrow:before {\n",
       "  /* Arrow on the left of the label */\n",
       "  content: \"▸\";\n",
       "  float: left;\n",
       "  margin-right: 0.25em;\n",
       "  color: var(--sklearn-color-icon);\n",
       "}\n",
       "\n",
       "#sk-container-id-1 label.sk-toggleable__label-arrow:hover:before {\n",
       "  color: var(--sklearn-color-text);\n",
       "}\n",
       "\n",
       "/* Toggleable content - dropdown */\n",
       "\n",
       "#sk-container-id-1 div.sk-toggleable__content {\n",
       "  display: none;\n",
       "  text-align: left;\n",
       "  /* unfitted */\n",
       "  background-color: var(--sklearn-color-unfitted-level-0);\n",
       "}\n",
       "\n",
       "#sk-container-id-1 div.sk-toggleable__content.fitted {\n",
       "  /* fitted */\n",
       "  background-color: var(--sklearn-color-fitted-level-0);\n",
       "}\n",
       "\n",
       "#sk-container-id-1 div.sk-toggleable__content pre {\n",
       "  margin: 0.2em;\n",
       "  border-radius: 0.25em;\n",
       "  color: var(--sklearn-color-text);\n",
       "  /* unfitted */\n",
       "  background-color: var(--sklearn-color-unfitted-level-0);\n",
       "}\n",
       "\n",
       "#sk-container-id-1 div.sk-toggleable__content.fitted pre {\n",
       "  /* unfitted */\n",
       "  background-color: var(--sklearn-color-fitted-level-0);\n",
       "}\n",
       "\n",
       "#sk-container-id-1 input.sk-toggleable__control:checked~div.sk-toggleable__content {\n",
       "  /* Expand drop-down */\n",
       "  display: block;\n",
       "  width: 100%;\n",
       "  overflow: visible;\n",
       "}\n",
       "\n",
       "#sk-container-id-1 input.sk-toggleable__control:checked~label.sk-toggleable__label-arrow:before {\n",
       "  content: \"▾\";\n",
       "}\n",
       "\n",
       "/* Pipeline/ColumnTransformer-specific style */\n",
       "\n",
       "#sk-container-id-1 div.sk-label input.sk-toggleable__control:checked~label.sk-toggleable__label {\n",
       "  color: var(--sklearn-color-text);\n",
       "  background-color: var(--sklearn-color-unfitted-level-2);\n",
       "}\n",
       "\n",
       "#sk-container-id-1 div.sk-label.fitted input.sk-toggleable__control:checked~label.sk-toggleable__label {\n",
       "  background-color: var(--sklearn-color-fitted-level-2);\n",
       "}\n",
       "\n",
       "/* Estimator-specific style */\n",
       "\n",
       "/* Colorize estimator box */\n",
       "#sk-container-id-1 div.sk-estimator input.sk-toggleable__control:checked~label.sk-toggleable__label {\n",
       "  /* unfitted */\n",
       "  background-color: var(--sklearn-color-unfitted-level-2);\n",
       "}\n",
       "\n",
       "#sk-container-id-1 div.sk-estimator.fitted input.sk-toggleable__control:checked~label.sk-toggleable__label {\n",
       "  /* fitted */\n",
       "  background-color: var(--sklearn-color-fitted-level-2);\n",
       "}\n",
       "\n",
       "#sk-container-id-1 div.sk-label label.sk-toggleable__label,\n",
       "#sk-container-id-1 div.sk-label label {\n",
       "  /* The background is the default theme color */\n",
       "  color: var(--sklearn-color-text-on-default-background);\n",
       "}\n",
       "\n",
       "/* On hover, darken the color of the background */\n",
       "#sk-container-id-1 div.sk-label:hover label.sk-toggleable__label {\n",
       "  color: var(--sklearn-color-text);\n",
       "  background-color: var(--sklearn-color-unfitted-level-2);\n",
       "}\n",
       "\n",
       "/* Label box, darken color on hover, fitted */\n",
       "#sk-container-id-1 div.sk-label.fitted:hover label.sk-toggleable__label.fitted {\n",
       "  color: var(--sklearn-color-text);\n",
       "  background-color: var(--sklearn-color-fitted-level-2);\n",
       "}\n",
       "\n",
       "/* Estimator label */\n",
       "\n",
       "#sk-container-id-1 div.sk-label label {\n",
       "  font-family: monospace;\n",
       "  font-weight: bold;\n",
       "  display: inline-block;\n",
       "  line-height: 1.2em;\n",
       "}\n",
       "\n",
       "#sk-container-id-1 div.sk-label-container {\n",
       "  text-align: center;\n",
       "}\n",
       "\n",
       "/* Estimator-specific */\n",
       "#sk-container-id-1 div.sk-estimator {\n",
       "  font-family: monospace;\n",
       "  border: 1px dotted var(--sklearn-color-border-box);\n",
       "  border-radius: 0.25em;\n",
       "  box-sizing: border-box;\n",
       "  margin-bottom: 0.5em;\n",
       "  /* unfitted */\n",
       "  background-color: var(--sklearn-color-unfitted-level-0);\n",
       "}\n",
       "\n",
       "#sk-container-id-1 div.sk-estimator.fitted {\n",
       "  /* fitted */\n",
       "  background-color: var(--sklearn-color-fitted-level-0);\n",
       "}\n",
       "\n",
       "/* on hover */\n",
       "#sk-container-id-1 div.sk-estimator:hover {\n",
       "  /* unfitted */\n",
       "  background-color: var(--sklearn-color-unfitted-level-2);\n",
       "}\n",
       "\n",
       "#sk-container-id-1 div.sk-estimator.fitted:hover {\n",
       "  /* fitted */\n",
       "  background-color: var(--sklearn-color-fitted-level-2);\n",
       "}\n",
       "\n",
       "/* Specification for estimator info (e.g. \"i\" and \"?\") */\n",
       "\n",
       "/* Common style for \"i\" and \"?\" */\n",
       "\n",
       ".sk-estimator-doc-link,\n",
       "a:link.sk-estimator-doc-link,\n",
       "a:visited.sk-estimator-doc-link {\n",
       "  float: right;\n",
       "  font-size: smaller;\n",
       "  line-height: 1em;\n",
       "  font-family: monospace;\n",
       "  background-color: var(--sklearn-color-background);\n",
       "  border-radius: 1em;\n",
       "  height: 1em;\n",
       "  width: 1em;\n",
       "  text-decoration: none !important;\n",
       "  margin-left: 0.5em;\n",
       "  text-align: center;\n",
       "  /* unfitted */\n",
       "  border: var(--sklearn-color-unfitted-level-1) 1pt solid;\n",
       "  color: var(--sklearn-color-unfitted-level-1);\n",
       "}\n",
       "\n",
       ".sk-estimator-doc-link.fitted,\n",
       "a:link.sk-estimator-doc-link.fitted,\n",
       "a:visited.sk-estimator-doc-link.fitted {\n",
       "  /* fitted */\n",
       "  border: var(--sklearn-color-fitted-level-1) 1pt solid;\n",
       "  color: var(--sklearn-color-fitted-level-1);\n",
       "}\n",
       "\n",
       "/* On hover */\n",
       "div.sk-estimator:hover .sk-estimator-doc-link:hover,\n",
       ".sk-estimator-doc-link:hover,\n",
       "div.sk-label-container:hover .sk-estimator-doc-link:hover,\n",
       ".sk-estimator-doc-link:hover {\n",
       "  /* unfitted */\n",
       "  background-color: var(--sklearn-color-unfitted-level-3);\n",
       "  color: var(--sklearn-color-background);\n",
       "  text-decoration: none;\n",
       "}\n",
       "\n",
       "div.sk-estimator.fitted:hover .sk-estimator-doc-link.fitted:hover,\n",
       ".sk-estimator-doc-link.fitted:hover,\n",
       "div.sk-label-container:hover .sk-estimator-doc-link.fitted:hover,\n",
       ".sk-estimator-doc-link.fitted:hover {\n",
       "  /* fitted */\n",
       "  background-color: var(--sklearn-color-fitted-level-3);\n",
       "  color: var(--sklearn-color-background);\n",
       "  text-decoration: none;\n",
       "}\n",
       "\n",
       "/* Span, style for the box shown on hovering the info icon */\n",
       ".sk-estimator-doc-link span {\n",
       "  display: none;\n",
       "  z-index: 9999;\n",
       "  position: relative;\n",
       "  font-weight: normal;\n",
       "  right: .2ex;\n",
       "  padding: .5ex;\n",
       "  margin: .5ex;\n",
       "  width: min-content;\n",
       "  min-width: 20ex;\n",
       "  max-width: 50ex;\n",
       "  color: var(--sklearn-color-text);\n",
       "  box-shadow: 2pt 2pt 4pt #999;\n",
       "  /* unfitted */\n",
       "  background: var(--sklearn-color-unfitted-level-0);\n",
       "  border: .5pt solid var(--sklearn-color-unfitted-level-3);\n",
       "}\n",
       "\n",
       ".sk-estimator-doc-link.fitted span {\n",
       "  /* fitted */\n",
       "  background: var(--sklearn-color-fitted-level-0);\n",
       "  border: var(--sklearn-color-fitted-level-3);\n",
       "}\n",
       "\n",
       ".sk-estimator-doc-link:hover span {\n",
       "  display: block;\n",
       "}\n",
       "\n",
       "/* \"?\"-specific style due to the `<a>` HTML tag */\n",
       "\n",
       "#sk-container-id-1 a.estimator_doc_link {\n",
       "  float: right;\n",
       "  font-size: 1rem;\n",
       "  line-height: 1em;\n",
       "  font-family: monospace;\n",
       "  background-color: var(--sklearn-color-background);\n",
       "  border-radius: 1rem;\n",
       "  height: 1rem;\n",
       "  width: 1rem;\n",
       "  text-decoration: none;\n",
       "  /* unfitted */\n",
       "  color: var(--sklearn-color-unfitted-level-1);\n",
       "  border: var(--sklearn-color-unfitted-level-1) 1pt solid;\n",
       "}\n",
       "\n",
       "#sk-container-id-1 a.estimator_doc_link.fitted {\n",
       "  /* fitted */\n",
       "  border: var(--sklearn-color-fitted-level-1) 1pt solid;\n",
       "  color: var(--sklearn-color-fitted-level-1);\n",
       "}\n",
       "\n",
       "/* On hover */\n",
       "#sk-container-id-1 a.estimator_doc_link:hover {\n",
       "  /* unfitted */\n",
       "  background-color: var(--sklearn-color-unfitted-level-3);\n",
       "  color: var(--sklearn-color-background);\n",
       "  text-decoration: none;\n",
       "}\n",
       "\n",
       "#sk-container-id-1 a.estimator_doc_link.fitted:hover {\n",
       "  /* fitted */\n",
       "  background-color: var(--sklearn-color-fitted-level-3);\n",
       "}\n",
       "\n",
       ".estimator-table summary {\n",
       "    padding: .5rem;\n",
       "    font-family: monospace;\n",
       "    cursor: pointer;\n",
       "}\n",
       "\n",
       ".estimator-table details[open] {\n",
       "    padding-left: 0.1rem;\n",
       "    padding-right: 0.1rem;\n",
       "    padding-bottom: 0.3rem;\n",
       "}\n",
       "\n",
       ".estimator-table .parameters-table {\n",
       "    margin-left: auto !important;\n",
       "    margin-right: auto !important;\n",
       "}\n",
       "\n",
       ".estimator-table .parameters-table tr:nth-child(odd) {\n",
       "    background-color: #fff;\n",
       "}\n",
       "\n",
       ".estimator-table .parameters-table tr:nth-child(even) {\n",
       "    background-color: #f6f6f6;\n",
       "}\n",
       "\n",
       ".estimator-table .parameters-table tr:hover {\n",
       "    background-color: #e0e0e0;\n",
       "}\n",
       "\n",
       ".estimator-table table td {\n",
       "    border: 1px solid rgba(106, 105, 104, 0.232);\n",
       "}\n",
       "\n",
       ".user-set td {\n",
       "    color:rgb(255, 94, 0);\n",
       "    text-align: left;\n",
       "}\n",
       "\n",
       ".user-set td.value pre {\n",
       "    color:rgb(255, 94, 0) !important;\n",
       "    background-color: transparent !important;\n",
       "}\n",
       "\n",
       ".default td {\n",
       "    color: black;\n",
       "    text-align: left;\n",
       "}\n",
       "\n",
       ".user-set td i,\n",
       ".default td i {\n",
       "    color: black;\n",
       "}\n",
       "\n",
       ".copy-paste-icon {\n",
       "    background-image: url(data:image/svg+xml;base64,PHN2ZyB4bWxucz0iaHR0cDovL3d3dy53My5vcmcvMjAwMC9zdmciIHZpZXdCb3g9IjAgMCA0NDggNTEyIj48IS0tIUZvbnQgQXdlc29tZSBGcmVlIDYuNy4yIGJ5IEBmb250YXdlc29tZSAtIGh0dHBzOi8vZm9udGF3ZXNvbWUuY29tIExpY2Vuc2UgLSBodHRwczovL2ZvbnRhd2Vzb21lLmNvbS9saWNlbnNlL2ZyZWUgQ29weXJpZ2h0IDIwMjUgRm9udGljb25zLCBJbmMuLS0+PHBhdGggZD0iTTIwOCAwTDMzMi4xIDBjMTIuNyAwIDI0LjkgNS4xIDMzLjkgMTQuMWw2Ny45IDY3LjljOSA5IDE0LjEgMjEuMiAxNC4xIDMzLjlMNDQ4IDMzNmMwIDI2LjUtMjEuNSA0OC00OCA0OGwtMTkyIDBjLTI2LjUgMC00OC0yMS41LTQ4LTQ4bDAtMjg4YzAtMjYuNSAyMS41LTQ4IDQ4LTQ4ek00OCAxMjhsODAgMCAwIDY0LTY0IDAgMCAyNTYgMTkyIDAgMC0zMiA2NCAwIDAgNDhjMCAyNi41LTIxLjUgNDgtNDggNDhMNDggNTEyYy0yNi41IDAtNDgtMjEuNS00OC00OEwwIDE3NmMwLTI2LjUgMjEuNS00OCA0OC00OHoiLz48L3N2Zz4=);\n",
       "    background-repeat: no-repeat;\n",
       "    background-size: 14px 14px;\n",
       "    background-position: 0;\n",
       "    display: inline-block;\n",
       "    width: 14px;\n",
       "    height: 14px;\n",
       "    cursor: pointer;\n",
       "}\n",
       "</style><body><div id=\"sk-container-id-1\" class=\"sk-top-container\"><div class=\"sk-text-repr-fallback\"><pre>RandomForestClassifier(random_state=42)</pre><b>In a Jupyter environment, please rerun this cell to show the HTML representation or trust the notebook. <br />On GitHub, the HTML representation is unable to render, please try loading this page with nbviewer.org.</b></div><div class=\"sk-container\" hidden><div class=\"sk-item\"><div class=\"sk-estimator fitted sk-toggleable\"><input class=\"sk-toggleable__control sk-hidden--visually\" id=\"sk-estimator-id-1\" type=\"checkbox\" checked><label for=\"sk-estimator-id-1\" class=\"sk-toggleable__label fitted sk-toggleable__label-arrow\"><div><div>RandomForestClassifier</div></div><div><a class=\"sk-estimator-doc-link fitted\" rel=\"noreferrer\" target=\"_blank\" href=\"https://scikit-learn.org/1.7/modules/generated/sklearn.ensemble.RandomForestClassifier.html\">?<span>Documentation for RandomForestClassifier</span></a><span class=\"sk-estimator-doc-link fitted\">i<span>Fitted</span></span></div></label><div class=\"sk-toggleable__content fitted\" data-param-prefix=\"\">\n",
       "        <div class=\"estimator-table\">\n",
       "            <details>\n",
       "                <summary>Parameters</summary>\n",
       "                <table class=\"parameters-table\">\n",
       "                  <tbody>\n",
       "                    \n",
       "        <tr class=\"default\">\n",
       "            <td><i class=\"copy-paste-icon\"\n",
       "                 onclick=\"copyToClipboard('n_estimators',\n",
       "                          this.parentElement.nextElementSibling)\"\n",
       "            ></i></td>\n",
       "            <td class=\"param\">n_estimators&nbsp;</td>\n",
       "            <td class=\"value\">100</td>\n",
       "        </tr>\n",
       "    \n",
       "\n",
       "        <tr class=\"default\">\n",
       "            <td><i class=\"copy-paste-icon\"\n",
       "                 onclick=\"copyToClipboard('criterion',\n",
       "                          this.parentElement.nextElementSibling)\"\n",
       "            ></i></td>\n",
       "            <td class=\"param\">criterion&nbsp;</td>\n",
       "            <td class=\"value\">&#x27;gini&#x27;</td>\n",
       "        </tr>\n",
       "    \n",
       "\n",
       "        <tr class=\"default\">\n",
       "            <td><i class=\"copy-paste-icon\"\n",
       "                 onclick=\"copyToClipboard('max_depth',\n",
       "                          this.parentElement.nextElementSibling)\"\n",
       "            ></i></td>\n",
       "            <td class=\"param\">max_depth&nbsp;</td>\n",
       "            <td class=\"value\">None</td>\n",
       "        </tr>\n",
       "    \n",
       "\n",
       "        <tr class=\"default\">\n",
       "            <td><i class=\"copy-paste-icon\"\n",
       "                 onclick=\"copyToClipboard('min_samples_split',\n",
       "                          this.parentElement.nextElementSibling)\"\n",
       "            ></i></td>\n",
       "            <td class=\"param\">min_samples_split&nbsp;</td>\n",
       "            <td class=\"value\">2</td>\n",
       "        </tr>\n",
       "    \n",
       "\n",
       "        <tr class=\"default\">\n",
       "            <td><i class=\"copy-paste-icon\"\n",
       "                 onclick=\"copyToClipboard('min_samples_leaf',\n",
       "                          this.parentElement.nextElementSibling)\"\n",
       "            ></i></td>\n",
       "            <td class=\"param\">min_samples_leaf&nbsp;</td>\n",
       "            <td class=\"value\">1</td>\n",
       "        </tr>\n",
       "    \n",
       "\n",
       "        <tr class=\"default\">\n",
       "            <td><i class=\"copy-paste-icon\"\n",
       "                 onclick=\"copyToClipboard('min_weight_fraction_leaf',\n",
       "                          this.parentElement.nextElementSibling)\"\n",
       "            ></i></td>\n",
       "            <td class=\"param\">min_weight_fraction_leaf&nbsp;</td>\n",
       "            <td class=\"value\">0.0</td>\n",
       "        </tr>\n",
       "    \n",
       "\n",
       "        <tr class=\"default\">\n",
       "            <td><i class=\"copy-paste-icon\"\n",
       "                 onclick=\"copyToClipboard('max_features',\n",
       "                          this.parentElement.nextElementSibling)\"\n",
       "            ></i></td>\n",
       "            <td class=\"param\">max_features&nbsp;</td>\n",
       "            <td class=\"value\">&#x27;sqrt&#x27;</td>\n",
       "        </tr>\n",
       "    \n",
       "\n",
       "        <tr class=\"default\">\n",
       "            <td><i class=\"copy-paste-icon\"\n",
       "                 onclick=\"copyToClipboard('max_leaf_nodes',\n",
       "                          this.parentElement.nextElementSibling)\"\n",
       "            ></i></td>\n",
       "            <td class=\"param\">max_leaf_nodes&nbsp;</td>\n",
       "            <td class=\"value\">None</td>\n",
       "        </tr>\n",
       "    \n",
       "\n",
       "        <tr class=\"default\">\n",
       "            <td><i class=\"copy-paste-icon\"\n",
       "                 onclick=\"copyToClipboard('min_impurity_decrease',\n",
       "                          this.parentElement.nextElementSibling)\"\n",
       "            ></i></td>\n",
       "            <td class=\"param\">min_impurity_decrease&nbsp;</td>\n",
       "            <td class=\"value\">0.0</td>\n",
       "        </tr>\n",
       "    \n",
       "\n",
       "        <tr class=\"default\">\n",
       "            <td><i class=\"copy-paste-icon\"\n",
       "                 onclick=\"copyToClipboard('bootstrap',\n",
       "                          this.parentElement.nextElementSibling)\"\n",
       "            ></i></td>\n",
       "            <td class=\"param\">bootstrap&nbsp;</td>\n",
       "            <td class=\"value\">True</td>\n",
       "        </tr>\n",
       "    \n",
       "\n",
       "        <tr class=\"default\">\n",
       "            <td><i class=\"copy-paste-icon\"\n",
       "                 onclick=\"copyToClipboard('oob_score',\n",
       "                          this.parentElement.nextElementSibling)\"\n",
       "            ></i></td>\n",
       "            <td class=\"param\">oob_score&nbsp;</td>\n",
       "            <td class=\"value\">False</td>\n",
       "        </tr>\n",
       "    \n",
       "\n",
       "        <tr class=\"default\">\n",
       "            <td><i class=\"copy-paste-icon\"\n",
       "                 onclick=\"copyToClipboard('n_jobs',\n",
       "                          this.parentElement.nextElementSibling)\"\n",
       "            ></i></td>\n",
       "            <td class=\"param\">n_jobs&nbsp;</td>\n",
       "            <td class=\"value\">None</td>\n",
       "        </tr>\n",
       "    \n",
       "\n",
       "        <tr class=\"user-set\">\n",
       "            <td><i class=\"copy-paste-icon\"\n",
       "                 onclick=\"copyToClipboard('random_state',\n",
       "                          this.parentElement.nextElementSibling)\"\n",
       "            ></i></td>\n",
       "            <td class=\"param\">random_state&nbsp;</td>\n",
       "            <td class=\"value\">42</td>\n",
       "        </tr>\n",
       "    \n",
       "\n",
       "        <tr class=\"default\">\n",
       "            <td><i class=\"copy-paste-icon\"\n",
       "                 onclick=\"copyToClipboard('verbose',\n",
       "                          this.parentElement.nextElementSibling)\"\n",
       "            ></i></td>\n",
       "            <td class=\"param\">verbose&nbsp;</td>\n",
       "            <td class=\"value\">0</td>\n",
       "        </tr>\n",
       "    \n",
       "\n",
       "        <tr class=\"default\">\n",
       "            <td><i class=\"copy-paste-icon\"\n",
       "                 onclick=\"copyToClipboard('warm_start',\n",
       "                          this.parentElement.nextElementSibling)\"\n",
       "            ></i></td>\n",
       "            <td class=\"param\">warm_start&nbsp;</td>\n",
       "            <td class=\"value\">False</td>\n",
       "        </tr>\n",
       "    \n",
       "\n",
       "        <tr class=\"default\">\n",
       "            <td><i class=\"copy-paste-icon\"\n",
       "                 onclick=\"copyToClipboard('class_weight',\n",
       "                          this.parentElement.nextElementSibling)\"\n",
       "            ></i></td>\n",
       "            <td class=\"param\">class_weight&nbsp;</td>\n",
       "            <td class=\"value\">None</td>\n",
       "        </tr>\n",
       "    \n",
       "\n",
       "        <tr class=\"default\">\n",
       "            <td><i class=\"copy-paste-icon\"\n",
       "                 onclick=\"copyToClipboard('ccp_alpha',\n",
       "                          this.parentElement.nextElementSibling)\"\n",
       "            ></i></td>\n",
       "            <td class=\"param\">ccp_alpha&nbsp;</td>\n",
       "            <td class=\"value\">0.0</td>\n",
       "        </tr>\n",
       "    \n",
       "\n",
       "        <tr class=\"default\">\n",
       "            <td><i class=\"copy-paste-icon\"\n",
       "                 onclick=\"copyToClipboard('max_samples',\n",
       "                          this.parentElement.nextElementSibling)\"\n",
       "            ></i></td>\n",
       "            <td class=\"param\">max_samples&nbsp;</td>\n",
       "            <td class=\"value\">None</td>\n",
       "        </tr>\n",
       "    \n",
       "\n",
       "        <tr class=\"default\">\n",
       "            <td><i class=\"copy-paste-icon\"\n",
       "                 onclick=\"copyToClipboard('monotonic_cst',\n",
       "                          this.parentElement.nextElementSibling)\"\n",
       "            ></i></td>\n",
       "            <td class=\"param\">monotonic_cst&nbsp;</td>\n",
       "            <td class=\"value\">None</td>\n",
       "        </tr>\n",
       "    \n",
       "                  </tbody>\n",
       "                </table>\n",
       "            </details>\n",
       "        </div>\n",
       "    </div></div></div></div></div><script>function copyToClipboard(text, element) {\n",
       "    // Get the parameter prefix from the closest toggleable content\n",
       "    const toggleableContent = element.closest('.sk-toggleable__content');\n",
       "    const paramPrefix = toggleableContent ? toggleableContent.dataset.paramPrefix : '';\n",
       "    const fullParamName = paramPrefix ? `${paramPrefix}${text}` : text;\n",
       "\n",
       "    const originalStyle = element.style;\n",
       "    const computedStyle = window.getComputedStyle(element);\n",
       "    const originalWidth = computedStyle.width;\n",
       "    const originalHTML = element.innerHTML.replace('Copied!', '');\n",
       "\n",
       "    navigator.clipboard.writeText(fullParamName)\n",
       "        .then(() => {\n",
       "            element.style.width = originalWidth;\n",
       "            element.style.color = 'green';\n",
       "            element.innerHTML = \"Copied!\";\n",
       "\n",
       "            setTimeout(() => {\n",
       "                element.innerHTML = originalHTML;\n",
       "                element.style = originalStyle;\n",
       "            }, 2000);\n",
       "        })\n",
       "        .catch(err => {\n",
       "            console.error('Failed to copy:', err);\n",
       "            element.style.color = 'red';\n",
       "            element.innerHTML = \"Failed!\";\n",
       "            setTimeout(() => {\n",
       "                element.innerHTML = originalHTML;\n",
       "                element.style = originalStyle;\n",
       "            }, 2000);\n",
       "        });\n",
       "    return false;\n",
       "}\n",
       "\n",
       "document.querySelectorAll('.fa-regular.fa-copy').forEach(function(element) {\n",
       "    const toggleableContent = element.closest('.sk-toggleable__content');\n",
       "    const paramPrefix = toggleableContent ? toggleableContent.dataset.paramPrefix : '';\n",
       "    const paramName = element.parentElement.nextElementSibling.textContent.trim();\n",
       "    const fullParamName = paramPrefix ? `${paramPrefix}${paramName}` : paramName;\n",
       "\n",
       "    element.setAttribute('title', fullParamName);\n",
       "});\n",
       "</script></body>"
      ],
      "text/plain": [
       "RandomForestClassifier(random_state=42)"
      ]
     },
     "execution_count": 22,
     "metadata": {},
     "output_type": "execute_result"
    }
   ],
   "source": [
    "X_train, X_test, y_train, y_test = train_test_split(X, y, test_size=0.2, random_state=42)\n",
    "clf = RandomForestClassifier(n_estimators=100, random_state=42)\n",
    "clf.fit(X_train, y_train)"
   ]
  },
  {
   "cell_type": "code",
   "execution_count": 23,
   "id": "9e0aa997",
   "metadata": {},
   "outputs": [],
   "source": [
    "# Predict on full dataset\n",
    "data[\"ML_Score\"] = clf.predict_proba(X)[:, 1]"
   ]
  },
  {
   "cell_type": "code",
   "execution_count": 24,
   "id": "563c2ad5",
   "metadata": {},
   "outputs": [
    {
     "data": {
      "application/vnd.microsoft.datawrangler.viewer.v0+json": {
       "columns": [
        {
         "name": "index",
         "rawType": "int64",
         "type": "integer"
        },
        {
         "name": "Retailer_ID",
         "rawType": "object",
         "type": "string"
        },
        {
         "name": "City",
         "rawType": "object",
         "type": "string"
        },
        {
         "name": "Channel",
         "rawType": "object",
         "type": "string"
        },
        {
         "name": "Product_ID",
         "rawType": "object",
         "type": "string"
        },
        {
         "name": "Recent_Purchase_Count",
         "rawType": "float64",
         "type": "float"
        },
        {
         "name": "City_Purchase_Count",
         "rawType": "int64",
         "type": "integer"
        },
        {
         "name": "Channel_Purchase_Count",
         "rawType": "int64",
         "type": "integer"
        },
        {
         "name": "Rule_Score",
         "rawType": "int64",
         "type": "integer"
        },
        {
         "name": "Purchased_Label",
         "rawType": "int64",
         "type": "integer"
        },
        {
         "name": "City_Enc",
         "rawType": "int64",
         "type": "integer"
        },
        {
         "name": "Channel_Enc",
         "rawType": "int64",
         "type": "integer"
        },
        {
         "name": "ML_Score",
         "rawType": "float64",
         "type": "float"
        }
       ],
       "ref": "1ab3e0c7-7692-4637-910b-e78626be77a4",
       "rows": [
        [
         "0",
         "R0001",
         "Bengaluru",
         "Pharmacy",
         "P001",
         "0.0",
         "352",
         "111",
         "1",
         "0",
         "0",
         "3",
         "0.33104875686681595"
        ],
        [
         "1",
         "R0001",
         "Bengaluru",
         "Pharmacy",
         "P002",
         "0.0",
         "388",
         "120",
         "3",
         "0",
         "0",
         "3",
         "0.2882856565950301"
        ],
        [
         "2",
         "R0001",
         "Bengaluru",
         "Pharmacy",
         "P003",
         "0.0",
         "382",
         "101",
         "3",
         "0",
         "0",
         "3",
         "0.25818229918650554"
        ],
        [
         "3",
         "R0001",
         "Bengaluru",
         "Pharmacy",
         "P004",
         "1.0",
         "371",
         "110",
         "6",
         "1",
         "0",
         "3",
         "0.39957501630908887"
        ],
        [
         "4",
         "R0001",
         "Bengaluru",
         "Pharmacy",
         "P005",
         "0.0",
         "339",
         "96",
         "1",
         "0",
         "0",
         "3",
         "0.33495860421868673"
        ]
       ],
       "shape": {
        "columns": 12,
        "rows": 5
       }
      },
      "text/html": [
       "<div>\n",
       "<style scoped>\n",
       "    .dataframe tbody tr th:only-of-type {\n",
       "        vertical-align: middle;\n",
       "    }\n",
       "\n",
       "    .dataframe tbody tr th {\n",
       "        vertical-align: top;\n",
       "    }\n",
       "\n",
       "    .dataframe thead th {\n",
       "        text-align: right;\n",
       "    }\n",
       "</style>\n",
       "<table border=\"1\" class=\"dataframe\">\n",
       "  <thead>\n",
       "    <tr style=\"text-align: right;\">\n",
       "      <th></th>\n",
       "      <th>Retailer_ID</th>\n",
       "      <th>City</th>\n",
       "      <th>Channel</th>\n",
       "      <th>Product_ID</th>\n",
       "      <th>Recent_Purchase_Count</th>\n",
       "      <th>City_Purchase_Count</th>\n",
       "      <th>Channel_Purchase_Count</th>\n",
       "      <th>Rule_Score</th>\n",
       "      <th>Purchased_Label</th>\n",
       "      <th>City_Enc</th>\n",
       "      <th>Channel_Enc</th>\n",
       "      <th>ML_Score</th>\n",
       "    </tr>\n",
       "  </thead>\n",
       "  <tbody>\n",
       "    <tr>\n",
       "      <th>0</th>\n",
       "      <td>R0001</td>\n",
       "      <td>Bengaluru</td>\n",
       "      <td>Pharmacy</td>\n",
       "      <td>P001</td>\n",
       "      <td>0.0</td>\n",
       "      <td>352</td>\n",
       "      <td>111</td>\n",
       "      <td>1</td>\n",
       "      <td>0</td>\n",
       "      <td>0</td>\n",
       "      <td>3</td>\n",
       "      <td>0.331049</td>\n",
       "    </tr>\n",
       "    <tr>\n",
       "      <th>1</th>\n",
       "      <td>R0001</td>\n",
       "      <td>Bengaluru</td>\n",
       "      <td>Pharmacy</td>\n",
       "      <td>P002</td>\n",
       "      <td>0.0</td>\n",
       "      <td>388</td>\n",
       "      <td>120</td>\n",
       "      <td>3</td>\n",
       "      <td>0</td>\n",
       "      <td>0</td>\n",
       "      <td>3</td>\n",
       "      <td>0.288286</td>\n",
       "    </tr>\n",
       "    <tr>\n",
       "      <th>2</th>\n",
       "      <td>R0001</td>\n",
       "      <td>Bengaluru</td>\n",
       "      <td>Pharmacy</td>\n",
       "      <td>P003</td>\n",
       "      <td>0.0</td>\n",
       "      <td>382</td>\n",
       "      <td>101</td>\n",
       "      <td>3</td>\n",
       "      <td>0</td>\n",
       "      <td>0</td>\n",
       "      <td>3</td>\n",
       "      <td>0.258182</td>\n",
       "    </tr>\n",
       "    <tr>\n",
       "      <th>3</th>\n",
       "      <td>R0001</td>\n",
       "      <td>Bengaluru</td>\n",
       "      <td>Pharmacy</td>\n",
       "      <td>P004</td>\n",
       "      <td>1.0</td>\n",
       "      <td>371</td>\n",
       "      <td>110</td>\n",
       "      <td>6</td>\n",
       "      <td>1</td>\n",
       "      <td>0</td>\n",
       "      <td>3</td>\n",
       "      <td>0.399575</td>\n",
       "    </tr>\n",
       "    <tr>\n",
       "      <th>4</th>\n",
       "      <td>R0001</td>\n",
       "      <td>Bengaluru</td>\n",
       "      <td>Pharmacy</td>\n",
       "      <td>P005</td>\n",
       "      <td>0.0</td>\n",
       "      <td>339</td>\n",
       "      <td>96</td>\n",
       "      <td>1</td>\n",
       "      <td>0</td>\n",
       "      <td>0</td>\n",
       "      <td>3</td>\n",
       "      <td>0.334959</td>\n",
       "    </tr>\n",
       "  </tbody>\n",
       "</table>\n",
       "</div>"
      ],
      "text/plain": [
       "  Retailer_ID       City   Channel Product_ID  Recent_Purchase_Count  \\\n",
       "0       R0001  Bengaluru  Pharmacy       P001                    0.0   \n",
       "1       R0001  Bengaluru  Pharmacy       P002                    0.0   \n",
       "2       R0001  Bengaluru  Pharmacy       P003                    0.0   \n",
       "3       R0001  Bengaluru  Pharmacy       P004                    1.0   \n",
       "4       R0001  Bengaluru  Pharmacy       P005                    0.0   \n",
       "\n",
       "   City_Purchase_Count  Channel_Purchase_Count  Rule_Score  Purchased_Label  \\\n",
       "0                  352                     111           1                0   \n",
       "1                  388                     120           3                0   \n",
       "2                  382                     101           3                0   \n",
       "3                  371                     110           6                1   \n",
       "4                  339                      96           1                0   \n",
       "\n",
       "   City_Enc  Channel_Enc  ML_Score  \n",
       "0         0            3  0.331049  \n",
       "1         0            3  0.288286  \n",
       "2         0            3  0.258182  \n",
       "3         0            3  0.399575  \n",
       "4         0            3  0.334959  "
      ]
     },
     "execution_count": 24,
     "metadata": {},
     "output_type": "execute_result"
    }
   ],
   "source": [
    "data.head()"
   ]
  },
  {
   "cell_type": "code",
   "execution_count": 25,
   "id": "5a6796c5",
   "metadata": {},
   "outputs": [
    {
     "data": {
      "application/vnd.microsoft.datawrangler.viewer.v0+json": {
       "columns": [
        {
         "name": "index",
         "rawType": "int64",
         "type": "integer"
        },
        {
         "name": "Retailer_ID",
         "rawType": "object",
         "type": "string"
        },
        {
         "name": "City",
         "rawType": "object",
         "type": "string"
        },
        {
         "name": "Channel",
         "rawType": "object",
         "type": "string"
        },
        {
         "name": "Product_ID",
         "rawType": "object",
         "type": "string"
        },
        {
         "name": "Recent_Purchase_Count",
         "rawType": "float64",
         "type": "float"
        },
        {
         "name": "City_Purchase_Count",
         "rawType": "int64",
         "type": "integer"
        },
        {
         "name": "Channel_Purchase_Count",
         "rawType": "int64",
         "type": "integer"
        },
        {
         "name": "Rule_Score",
         "rawType": "int64",
         "type": "integer"
        },
        {
         "name": "Purchased_Label",
         "rawType": "int64",
         "type": "integer"
        },
        {
         "name": "City_Enc",
         "rawType": "int64",
         "type": "integer"
        },
        {
         "name": "Channel_Enc",
         "rawType": "int64",
         "type": "integer"
        },
        {
         "name": "ML_Score",
         "rawType": "float64",
         "type": "float"
        },
        {
         "name": "Final_Score",
         "rawType": "float64",
         "type": "float"
        }
       ],
       "ref": "ff8ff8e3-2ce6-4e4f-ad00-a1e85aff2a9c",
       "rows": [
        [
         "0",
         "R0001",
         "Bengaluru",
         "Pharmacy",
         "P001",
         "0.0",
         "352",
         "111",
         "1",
         "0",
         "0",
         "3",
         "0.33104875686681595",
         "0.24885771176674132"
        ],
        [
         "1",
         "R0001",
         "Bengaluru",
         "Pharmacy",
         "P002",
         "0.0",
         "388",
         "120",
         "3",
         "0",
         "0",
         "3",
         "0.2882856565950301",
         "0.394142828297515"
        ],
        [
         "2",
         "R0001",
         "Bengaluru",
         "Pharmacy",
         "P003",
         "0.0",
         "382",
         "101",
         "3",
         "0",
         "0",
         "3",
         "0.25818229918650554",
         "0.37909114959325274"
        ],
        [
         "3",
         "R0001",
         "Bengaluru",
         "Pharmacy",
         "P004",
         "1.0",
         "371",
         "110",
         "6",
         "1",
         "0",
         "3",
         "0.39957501630908887",
         "0.6997875081545444"
        ],
        [
         "4",
         "R0001",
         "Bengaluru",
         "Pharmacy",
         "P005",
         "0.0",
         "339",
         "96",
         "1",
         "0",
         "0",
         "3",
         "0.33495860421868673",
         "0.2508126354426767"
        ]
       ],
       "shape": {
        "columns": 13,
        "rows": 5
       }
      },
      "text/html": [
       "<div>\n",
       "<style scoped>\n",
       "    .dataframe tbody tr th:only-of-type {\n",
       "        vertical-align: middle;\n",
       "    }\n",
       "\n",
       "    .dataframe tbody tr th {\n",
       "        vertical-align: top;\n",
       "    }\n",
       "\n",
       "    .dataframe thead th {\n",
       "        text-align: right;\n",
       "    }\n",
       "</style>\n",
       "<table border=\"1\" class=\"dataframe\">\n",
       "  <thead>\n",
       "    <tr style=\"text-align: right;\">\n",
       "      <th></th>\n",
       "      <th>Retailer_ID</th>\n",
       "      <th>City</th>\n",
       "      <th>Channel</th>\n",
       "      <th>Product_ID</th>\n",
       "      <th>Recent_Purchase_Count</th>\n",
       "      <th>City_Purchase_Count</th>\n",
       "      <th>Channel_Purchase_Count</th>\n",
       "      <th>Rule_Score</th>\n",
       "      <th>Purchased_Label</th>\n",
       "      <th>City_Enc</th>\n",
       "      <th>Channel_Enc</th>\n",
       "      <th>ML_Score</th>\n",
       "      <th>Final_Score</th>\n",
       "    </tr>\n",
       "  </thead>\n",
       "  <tbody>\n",
       "    <tr>\n",
       "      <th>0</th>\n",
       "      <td>R0001</td>\n",
       "      <td>Bengaluru</td>\n",
       "      <td>Pharmacy</td>\n",
       "      <td>P001</td>\n",
       "      <td>0.0</td>\n",
       "      <td>352</td>\n",
       "      <td>111</td>\n",
       "      <td>1</td>\n",
       "      <td>0</td>\n",
       "      <td>0</td>\n",
       "      <td>3</td>\n",
       "      <td>0.331049</td>\n",
       "      <td>0.248858</td>\n",
       "    </tr>\n",
       "    <tr>\n",
       "      <th>1</th>\n",
       "      <td>R0001</td>\n",
       "      <td>Bengaluru</td>\n",
       "      <td>Pharmacy</td>\n",
       "      <td>P002</td>\n",
       "      <td>0.0</td>\n",
       "      <td>388</td>\n",
       "      <td>120</td>\n",
       "      <td>3</td>\n",
       "      <td>0</td>\n",
       "      <td>0</td>\n",
       "      <td>3</td>\n",
       "      <td>0.288286</td>\n",
       "      <td>0.394143</td>\n",
       "    </tr>\n",
       "    <tr>\n",
       "      <th>2</th>\n",
       "      <td>R0001</td>\n",
       "      <td>Bengaluru</td>\n",
       "      <td>Pharmacy</td>\n",
       "      <td>P003</td>\n",
       "      <td>0.0</td>\n",
       "      <td>382</td>\n",
       "      <td>101</td>\n",
       "      <td>3</td>\n",
       "      <td>0</td>\n",
       "      <td>0</td>\n",
       "      <td>3</td>\n",
       "      <td>0.258182</td>\n",
       "      <td>0.379091</td>\n",
       "    </tr>\n",
       "    <tr>\n",
       "      <th>3</th>\n",
       "      <td>R0001</td>\n",
       "      <td>Bengaluru</td>\n",
       "      <td>Pharmacy</td>\n",
       "      <td>P004</td>\n",
       "      <td>1.0</td>\n",
       "      <td>371</td>\n",
       "      <td>110</td>\n",
       "      <td>6</td>\n",
       "      <td>1</td>\n",
       "      <td>0</td>\n",
       "      <td>3</td>\n",
       "      <td>0.399575</td>\n",
       "      <td>0.699788</td>\n",
       "    </tr>\n",
       "    <tr>\n",
       "      <th>4</th>\n",
       "      <td>R0001</td>\n",
       "      <td>Bengaluru</td>\n",
       "      <td>Pharmacy</td>\n",
       "      <td>P005</td>\n",
       "      <td>0.0</td>\n",
       "      <td>339</td>\n",
       "      <td>96</td>\n",
       "      <td>1</td>\n",
       "      <td>0</td>\n",
       "      <td>0</td>\n",
       "      <td>3</td>\n",
       "      <td>0.334959</td>\n",
       "      <td>0.250813</td>\n",
       "    </tr>\n",
       "  </tbody>\n",
       "</table>\n",
       "</div>"
      ],
      "text/plain": [
       "  Retailer_ID       City   Channel Product_ID  Recent_Purchase_Count  \\\n",
       "0       R0001  Bengaluru  Pharmacy       P001                    0.0   \n",
       "1       R0001  Bengaluru  Pharmacy       P002                    0.0   \n",
       "2       R0001  Bengaluru  Pharmacy       P003                    0.0   \n",
       "3       R0001  Bengaluru  Pharmacy       P004                    1.0   \n",
       "4       R0001  Bengaluru  Pharmacy       P005                    0.0   \n",
       "\n",
       "   City_Purchase_Count  Channel_Purchase_Count  Rule_Score  Purchased_Label  \\\n",
       "0                  352                     111           1                0   \n",
       "1                  388                     120           3                0   \n",
       "2                  382                     101           3                0   \n",
       "3                  371                     110           6                1   \n",
       "4                  339                      96           1                0   \n",
       "\n",
       "   City_Enc  Channel_Enc  ML_Score  Final_Score  \n",
       "0         0            3  0.331049     0.248858  \n",
       "1         0            3  0.288286     0.394143  \n",
       "2         0            3  0.258182     0.379091  \n",
       "3         0            3  0.399575     0.699788  \n",
       "4         0            3  0.334959     0.250813  "
      ]
     },
     "execution_count": 25,
     "metadata": {},
     "output_type": "execute_result"
    }
   ],
   "source": [
    "#Combine Rule and ML Score\n",
    "# -------------------------------\n",
    "data[\"Final_Score\"] = 0.5 * data[\"ML_Score\"] + 0.5 * (data[\"Rule_Score\"] / data[\"Rule_Score\"].max())\n",
    "data.head()"
   ]
  },
  {
   "cell_type": "code",
   "execution_count": 26,
   "id": "0e9d4240",
   "metadata": {},
   "outputs": [
    {
     "data": {
      "application/vnd.microsoft.datawrangler.viewer.v0+json": {
       "columns": [
        {
         "name": "index",
         "rawType": "object",
         "type": "string"
        },
        {
         "name": "Final_Score",
         "rawType": "float64",
         "type": "float"
        }
       ],
       "ref": "4229b356-36da-4e94-85f4-090236fa0174",
       "rows": [
        [
         "count",
         "9600.0"
        ],
        [
         "mean",
         "0.3510894693315483"
        ],
        [
         "std",
         "0.16550765162457848"
        ],
        [
         "min",
         "0.07970082821422336"
        ],
        [
         "25%",
         "0.21687814053059717"
        ],
        [
         "50%",
         "0.3409502741976582"
        ],
        [
         "75%",
         "0.4468418961516287"
        ],
        [
         "max",
         "0.7420658803930529"
        ]
       ],
       "shape": {
        "columns": 1,
        "rows": 8
       }
      },
      "text/plain": [
       "count    9600.000000\n",
       "mean        0.351089\n",
       "std         0.165508\n",
       "min         0.079701\n",
       "25%         0.216878\n",
       "50%         0.340950\n",
       "75%         0.446842\n",
       "max         0.742066\n",
       "Name: Final_Score, dtype: float64"
      ]
     },
     "execution_count": 26,
     "metadata": {},
     "output_type": "execute_result"
    }
   ],
   "source": [
    "data[\"Final_Score\"].describe()"
   ]
  },
  {
   "cell_type": "code",
   "execution_count": 27,
   "id": "06ba81cb",
   "metadata": {},
   "outputs": [
    {
     "name": "stderr",
     "output_type": "stream",
     "text": [
      "C:\\Users\\siman\\AppData\\Local\\Temp\\ipykernel_21592\\3272556787.py:6: FutureWarning: A value is trying to be set on a copy of a DataFrame or Series through chained assignment using an inplace method.\n",
      "The behavior will change in pandas 3.0. This inplace method will never work because the intermediate object on which we are setting values always behaves as a copy.\n",
      "\n",
      "For example, when doing 'df[col].method(value, inplace=True)', try using 'df.method({col: value}, inplace=True)' or df[col] = df[col].method(value) instead, to perform the operation inplace on the original object.\n",
      "\n",
      "\n",
      "  data[\"Unique_SKUs_Purchased\"].fillna(5, inplace=True)  # fallback\n",
      "C:\\Users\\siman\\AppData\\Local\\Temp\\ipykernel_21592\\3272556787.py:14: FutureWarning: DataFrameGroupBy.apply operated on the grouping columns. This behavior is deprecated, and in a future version of pandas the grouping columns will be excluded from the operation. Either pass `include_groups=False` to exclude the groupings or explicitly select the grouping columns after groupby to silence this warning.\n",
      "  recommendations = data.groupby(\"Retailer_ID\").apply(\n"
     ]
    }
   ],
   "source": [
    "sku_counts = recent_sales.groupby(\"Retailer_ID\")[\"Product_ID\"].nunique().reset_index()\n",
    "sku_counts.columns = [\"Retailer_ID\", \"Unique_SKUs_Purchased\"]\n",
    "\n",
    "# Merge with data to get top-N per retailer\n",
    "data = data.merge(sku_counts, on=\"Retailer_ID\", how=\"left\")\n",
    "data[\"Unique_SKUs_Purchased\"].fillna(5, inplace=True)  # fallback\n",
    "\n",
    "# Round and clip to limit top-N (max 10)\n",
    "data[\"TopN\"] = data[\"Unique_SKUs_Purchased\"].apply(lambda x: int(min(round(x * 1.2), 10)))\n",
    "\n",
    "# Sort and apply dynamic top-N per retailer\n",
    "data = data.sort_values([\"Retailer_ID\", \"Final_Score\"], ascending=[True, False])\n",
    "\n",
    "recommendations = data.groupby(\"Retailer_ID\").apply(\n",
    "    lambda x: x.head(int(x[\"TopN\"].iloc[0]))\n",
    ").reset_index(drop=True)"
   ]
  },
  {
   "cell_type": "code",
   "execution_count": 28,
   "id": "5e74e138",
   "metadata": {},
   "outputs": [
    {
     "data": {
      "application/vnd.microsoft.datawrangler.viewer.v0+json": {
       "columns": [
        {
         "name": "index",
         "rawType": "int64",
         "type": "integer"
        },
        {
         "name": "Retailer_ID",
         "rawType": "object",
         "type": "string"
        },
        {
         "name": "City",
         "rawType": "object",
         "type": "string"
        },
        {
         "name": "Channel",
         "rawType": "object",
         "type": "string"
        },
        {
         "name": "Product_ID",
         "rawType": "object",
         "type": "string"
        },
        {
         "name": "Recent_Purchase_Count",
         "rawType": "float64",
         "type": "float"
        },
        {
         "name": "City_Purchase_Count",
         "rawType": "int64",
         "type": "integer"
        },
        {
         "name": "Channel_Purchase_Count",
         "rawType": "int64",
         "type": "integer"
        },
        {
         "name": "Rule_Score",
         "rawType": "int64",
         "type": "integer"
        },
        {
         "name": "Purchased_Label",
         "rawType": "int64",
         "type": "integer"
        },
        {
         "name": "City_Enc",
         "rawType": "int64",
         "type": "integer"
        },
        {
         "name": "Channel_Enc",
         "rawType": "int64",
         "type": "integer"
        },
        {
         "name": "ML_Score",
         "rawType": "float64",
         "type": "float"
        },
        {
         "name": "Final_Score",
         "rawType": "float64",
         "type": "float"
        },
        {
         "name": "Unique_SKUs_Purchased",
         "rawType": "float64",
         "type": "float"
        },
        {
         "name": "TopN",
         "rawType": "int64",
         "type": "integer"
        }
       ],
       "ref": "f53f4519-94dc-420d-ab33-47048c4ceaf6",
       "rows": [
        [
         "3",
         "R0001",
         "Bengaluru",
         "Pharmacy",
         "P004",
         "1.0",
         "371",
         "110",
         "6",
         "1",
         "0",
         "3",
         "0.39957501630908887",
         "0.6997875081545444",
         "8.0",
         "10"
        ],
        [
         "19",
         "R0001",
         "Bengaluru",
         "Pharmacy",
         "P020",
         "1.0",
         "383",
         "117",
         "6",
         "1",
         "0",
         "3",
         "0.38483639359858585",
         "0.692418196799293",
         "8.0",
         "10"
        ],
        [
         "32",
         "R0001",
         "Bengaluru",
         "Pharmacy",
         "P033",
         "1.0",
         "385",
         "97",
         "6",
         "1",
         "0",
         "3",
         "0.3830396350735814",
         "0.6915198175367907",
         "8.0",
         "10"
        ],
        [
         "12",
         "R0001",
         "Bengaluru",
         "Pharmacy",
         "P013",
         "1.0",
         "392",
         "116",
         "6",
         "1",
         "0",
         "3",
         "0.347670916640467",
         "0.6738354583202335",
         "8.0",
         "10"
        ],
        [
         "13",
         "R0001",
         "Bengaluru",
         "Pharmacy",
         "P014",
         "2.0",
         "375",
         "103",
         "6",
         "1",
         "0",
         "3",
         "0.3399344421423395",
         "0.6699672210711698",
         "8.0",
         "10"
        ],
        [
         "18",
         "R0001",
         "Bengaluru",
         "Pharmacy",
         "P019",
         "1.0",
         "368",
         "99",
         "6",
         "1",
         "0",
         "3",
         "0.2512836519144335",
         "0.6256418259572167",
         "8.0",
         "10"
        ],
        [
         "9",
         "R0001",
         "Bengaluru",
         "Pharmacy",
         "P010",
         "0.0",
         "383",
         "112",
         "3",
         "0",
         "0",
         "3",
         "0.3913456806218857",
         "0.44567284031094284",
         "8.0",
         "10"
        ],
        [
         "16",
         "R0001",
         "Bengaluru",
         "Pharmacy",
         "P017",
         "0.0",
         "369",
         "120",
         "3",
         "0",
         "0",
         "3",
         "0.39004824451235415",
         "0.44502412225617705",
         "8.0",
         "10"
        ],
        [
         "26",
         "R0001",
         "Bengaluru",
         "Pharmacy",
         "P027",
         "1.0",
         "353",
         "109",
         "4",
         "1",
         "0",
         "3",
         "0.21231274504113945",
         "0.439489705853903",
         "8.0",
         "10"
        ],
        [
         "11",
         "R0001",
         "Bengaluru",
         "Pharmacy",
         "P012",
         "0.0",
         "379",
         "108",
         "3",
         "0",
         "0",
         "3",
         "0.3784076672117391",
         "0.43920383360586956",
         "8.0",
         "10"
        ]
       ],
       "shape": {
        "columns": 15,
        "rows": 10
       }
      },
      "text/html": [
       "<div>\n",
       "<style scoped>\n",
       "    .dataframe tbody tr th:only-of-type {\n",
       "        vertical-align: middle;\n",
       "    }\n",
       "\n",
       "    .dataframe tbody tr th {\n",
       "        vertical-align: top;\n",
       "    }\n",
       "\n",
       "    .dataframe thead th {\n",
       "        text-align: right;\n",
       "    }\n",
       "</style>\n",
       "<table border=\"1\" class=\"dataframe\">\n",
       "  <thead>\n",
       "    <tr style=\"text-align: right;\">\n",
       "      <th></th>\n",
       "      <th>Retailer_ID</th>\n",
       "      <th>City</th>\n",
       "      <th>Channel</th>\n",
       "      <th>Product_ID</th>\n",
       "      <th>Recent_Purchase_Count</th>\n",
       "      <th>City_Purchase_Count</th>\n",
       "      <th>Channel_Purchase_Count</th>\n",
       "      <th>Rule_Score</th>\n",
       "      <th>Purchased_Label</th>\n",
       "      <th>City_Enc</th>\n",
       "      <th>Channel_Enc</th>\n",
       "      <th>ML_Score</th>\n",
       "      <th>Final_Score</th>\n",
       "      <th>Unique_SKUs_Purchased</th>\n",
       "      <th>TopN</th>\n",
       "    </tr>\n",
       "  </thead>\n",
       "  <tbody>\n",
       "    <tr>\n",
       "      <th>3</th>\n",
       "      <td>R0001</td>\n",
       "      <td>Bengaluru</td>\n",
       "      <td>Pharmacy</td>\n",
       "      <td>P004</td>\n",
       "      <td>1.0</td>\n",
       "      <td>371</td>\n",
       "      <td>110</td>\n",
       "      <td>6</td>\n",
       "      <td>1</td>\n",
       "      <td>0</td>\n",
       "      <td>3</td>\n",
       "      <td>0.399575</td>\n",
       "      <td>0.699788</td>\n",
       "      <td>8.0</td>\n",
       "      <td>10</td>\n",
       "    </tr>\n",
       "    <tr>\n",
       "      <th>19</th>\n",
       "      <td>R0001</td>\n",
       "      <td>Bengaluru</td>\n",
       "      <td>Pharmacy</td>\n",
       "      <td>P020</td>\n",
       "      <td>1.0</td>\n",
       "      <td>383</td>\n",
       "      <td>117</td>\n",
       "      <td>6</td>\n",
       "      <td>1</td>\n",
       "      <td>0</td>\n",
       "      <td>3</td>\n",
       "      <td>0.384836</td>\n",
       "      <td>0.692418</td>\n",
       "      <td>8.0</td>\n",
       "      <td>10</td>\n",
       "    </tr>\n",
       "    <tr>\n",
       "      <th>32</th>\n",
       "      <td>R0001</td>\n",
       "      <td>Bengaluru</td>\n",
       "      <td>Pharmacy</td>\n",
       "      <td>P033</td>\n",
       "      <td>1.0</td>\n",
       "      <td>385</td>\n",
       "      <td>97</td>\n",
       "      <td>6</td>\n",
       "      <td>1</td>\n",
       "      <td>0</td>\n",
       "      <td>3</td>\n",
       "      <td>0.383040</td>\n",
       "      <td>0.691520</td>\n",
       "      <td>8.0</td>\n",
       "      <td>10</td>\n",
       "    </tr>\n",
       "    <tr>\n",
       "      <th>12</th>\n",
       "      <td>R0001</td>\n",
       "      <td>Bengaluru</td>\n",
       "      <td>Pharmacy</td>\n",
       "      <td>P013</td>\n",
       "      <td>1.0</td>\n",
       "      <td>392</td>\n",
       "      <td>116</td>\n",
       "      <td>6</td>\n",
       "      <td>1</td>\n",
       "      <td>0</td>\n",
       "      <td>3</td>\n",
       "      <td>0.347671</td>\n",
       "      <td>0.673835</td>\n",
       "      <td>8.0</td>\n",
       "      <td>10</td>\n",
       "    </tr>\n",
       "    <tr>\n",
       "      <th>13</th>\n",
       "      <td>R0001</td>\n",
       "      <td>Bengaluru</td>\n",
       "      <td>Pharmacy</td>\n",
       "      <td>P014</td>\n",
       "      <td>2.0</td>\n",
       "      <td>375</td>\n",
       "      <td>103</td>\n",
       "      <td>6</td>\n",
       "      <td>1</td>\n",
       "      <td>0</td>\n",
       "      <td>3</td>\n",
       "      <td>0.339934</td>\n",
       "      <td>0.669967</td>\n",
       "      <td>8.0</td>\n",
       "      <td>10</td>\n",
       "    </tr>\n",
       "    <tr>\n",
       "      <th>18</th>\n",
       "      <td>R0001</td>\n",
       "      <td>Bengaluru</td>\n",
       "      <td>Pharmacy</td>\n",
       "      <td>P019</td>\n",
       "      <td>1.0</td>\n",
       "      <td>368</td>\n",
       "      <td>99</td>\n",
       "      <td>6</td>\n",
       "      <td>1</td>\n",
       "      <td>0</td>\n",
       "      <td>3</td>\n",
       "      <td>0.251284</td>\n",
       "      <td>0.625642</td>\n",
       "      <td>8.0</td>\n",
       "      <td>10</td>\n",
       "    </tr>\n",
       "    <tr>\n",
       "      <th>9</th>\n",
       "      <td>R0001</td>\n",
       "      <td>Bengaluru</td>\n",
       "      <td>Pharmacy</td>\n",
       "      <td>P010</td>\n",
       "      <td>0.0</td>\n",
       "      <td>383</td>\n",
       "      <td>112</td>\n",
       "      <td>3</td>\n",
       "      <td>0</td>\n",
       "      <td>0</td>\n",
       "      <td>3</td>\n",
       "      <td>0.391346</td>\n",
       "      <td>0.445673</td>\n",
       "      <td>8.0</td>\n",
       "      <td>10</td>\n",
       "    </tr>\n",
       "    <tr>\n",
       "      <th>16</th>\n",
       "      <td>R0001</td>\n",
       "      <td>Bengaluru</td>\n",
       "      <td>Pharmacy</td>\n",
       "      <td>P017</td>\n",
       "      <td>0.0</td>\n",
       "      <td>369</td>\n",
       "      <td>120</td>\n",
       "      <td>3</td>\n",
       "      <td>0</td>\n",
       "      <td>0</td>\n",
       "      <td>3</td>\n",
       "      <td>0.390048</td>\n",
       "      <td>0.445024</td>\n",
       "      <td>8.0</td>\n",
       "      <td>10</td>\n",
       "    </tr>\n",
       "    <tr>\n",
       "      <th>26</th>\n",
       "      <td>R0001</td>\n",
       "      <td>Bengaluru</td>\n",
       "      <td>Pharmacy</td>\n",
       "      <td>P027</td>\n",
       "      <td>1.0</td>\n",
       "      <td>353</td>\n",
       "      <td>109</td>\n",
       "      <td>4</td>\n",
       "      <td>1</td>\n",
       "      <td>0</td>\n",
       "      <td>3</td>\n",
       "      <td>0.212313</td>\n",
       "      <td>0.439490</td>\n",
       "      <td>8.0</td>\n",
       "      <td>10</td>\n",
       "    </tr>\n",
       "    <tr>\n",
       "      <th>11</th>\n",
       "      <td>R0001</td>\n",
       "      <td>Bengaluru</td>\n",
       "      <td>Pharmacy</td>\n",
       "      <td>P012</td>\n",
       "      <td>0.0</td>\n",
       "      <td>379</td>\n",
       "      <td>108</td>\n",
       "      <td>3</td>\n",
       "      <td>0</td>\n",
       "      <td>0</td>\n",
       "      <td>3</td>\n",
       "      <td>0.378408</td>\n",
       "      <td>0.439204</td>\n",
       "      <td>8.0</td>\n",
       "      <td>10</td>\n",
       "    </tr>\n",
       "  </tbody>\n",
       "</table>\n",
       "</div>"
      ],
      "text/plain": [
       "   Retailer_ID       City   Channel Product_ID  Recent_Purchase_Count  \\\n",
       "3        R0001  Bengaluru  Pharmacy       P004                    1.0   \n",
       "19       R0001  Bengaluru  Pharmacy       P020                    1.0   \n",
       "32       R0001  Bengaluru  Pharmacy       P033                    1.0   \n",
       "12       R0001  Bengaluru  Pharmacy       P013                    1.0   \n",
       "13       R0001  Bengaluru  Pharmacy       P014                    2.0   \n",
       "18       R0001  Bengaluru  Pharmacy       P019                    1.0   \n",
       "9        R0001  Bengaluru  Pharmacy       P010                    0.0   \n",
       "16       R0001  Bengaluru  Pharmacy       P017                    0.0   \n",
       "26       R0001  Bengaluru  Pharmacy       P027                    1.0   \n",
       "11       R0001  Bengaluru  Pharmacy       P012                    0.0   \n",
       "\n",
       "    City_Purchase_Count  Channel_Purchase_Count  Rule_Score  Purchased_Label  \\\n",
       "3                   371                     110           6                1   \n",
       "19                  383                     117           6                1   \n",
       "32                  385                      97           6                1   \n",
       "12                  392                     116           6                1   \n",
       "13                  375                     103           6                1   \n",
       "18                  368                      99           6                1   \n",
       "9                   383                     112           3                0   \n",
       "16                  369                     120           3                0   \n",
       "26                  353                     109           4                1   \n",
       "11                  379                     108           3                0   \n",
       "\n",
       "    City_Enc  Channel_Enc  ML_Score  Final_Score  Unique_SKUs_Purchased  TopN  \n",
       "3          0            3  0.399575     0.699788                    8.0    10  \n",
       "19         0            3  0.384836     0.692418                    8.0    10  \n",
       "32         0            3  0.383040     0.691520                    8.0    10  \n",
       "12         0            3  0.347671     0.673835                    8.0    10  \n",
       "13         0            3  0.339934     0.669967                    8.0    10  \n",
       "18         0            3  0.251284     0.625642                    8.0    10  \n",
       "9          0            3  0.391346     0.445673                    8.0    10  \n",
       "16         0            3  0.390048     0.445024                    8.0    10  \n",
       "26         0            3  0.212313     0.439490                    8.0    10  \n",
       "11         0            3  0.378408     0.439204                    8.0    10  "
      ]
     },
     "execution_count": 28,
     "metadata": {},
     "output_type": "execute_result"
    }
   ],
   "source": [
    "data.head(10)"
   ]
  },
  {
   "cell_type": "code",
   "execution_count": 29,
   "id": "5f7c69c8",
   "metadata": {},
   "outputs": [
    {
     "data": {
      "text/plain": [
       "(2261, 15)"
      ]
     },
     "execution_count": 29,
     "metadata": {},
     "output_type": "execute_result"
    }
   ],
   "source": [
    "recommendations.shape"
   ]
  },
  {
   "cell_type": "code",
   "execution_count": 30,
   "id": "74f2c533",
   "metadata": {},
   "outputs": [
    {
     "data": {
      "text/plain": [
       "(240, 40)"
      ]
     },
     "execution_count": 30,
     "metadata": {},
     "output_type": "execute_result"
    }
   ],
   "source": [
    "recommendations['Retailer_ID'].nunique(), recommendations['Product_ID'].nunique()"
   ]
  },
  {
   "cell_type": "code",
   "execution_count": 31,
   "id": "4595e70c",
   "metadata": {},
   "outputs": [
    {
     "data": {
      "application/vnd.microsoft.datawrangler.viewer.v0+json": {
       "columns": [
        {
         "name": "index",
         "rawType": "int64",
         "type": "integer"
        },
        {
         "name": "Retailer_ID",
         "rawType": "object",
         "type": "string"
        },
        {
         "name": "City",
         "rawType": "object",
         "type": "string"
        },
        {
         "name": "Channel",
         "rawType": "object",
         "type": "string"
        },
        {
         "name": "Product_ID",
         "rawType": "object",
         "type": "string"
        },
        {
         "name": "Recent_Purchase_Count",
         "rawType": "float64",
         "type": "float"
        },
        {
         "name": "City_Purchase_Count",
         "rawType": "int64",
         "type": "integer"
        },
        {
         "name": "Channel_Purchase_Count",
         "rawType": "int64",
         "type": "integer"
        },
        {
         "name": "Rule_Score",
         "rawType": "int64",
         "type": "integer"
        },
        {
         "name": "Purchased_Label",
         "rawType": "int64",
         "type": "integer"
        },
        {
         "name": "City_Enc",
         "rawType": "int64",
         "type": "integer"
        },
        {
         "name": "Channel_Enc",
         "rawType": "int64",
         "type": "integer"
        },
        {
         "name": "ML_Score",
         "rawType": "float64",
         "type": "float"
        },
        {
         "name": "Final_Score",
         "rawType": "float64",
         "type": "float"
        },
        {
         "name": "Unique_SKUs_Purchased",
         "rawType": "float64",
         "type": "float"
        },
        {
         "name": "TopN",
         "rawType": "int64",
         "type": "integer"
        }
       ],
       "ref": "0887d668-903b-4d71-9f50-3788b0666530",
       "rows": [
        [
         "0",
         "R0001",
         "Bengaluru",
         "Pharmacy",
         "P004",
         "1.0",
         "371",
         "110",
         "6",
         "1",
         "0",
         "3",
         "0.39957501630908887",
         "0.6997875081545444",
         "8.0",
         "10"
        ],
        [
         "1",
         "R0001",
         "Bengaluru",
         "Pharmacy",
         "P020",
         "1.0",
         "383",
         "117",
         "6",
         "1",
         "0",
         "3",
         "0.38483639359858585",
         "0.692418196799293",
         "8.0",
         "10"
        ],
        [
         "2",
         "R0001",
         "Bengaluru",
         "Pharmacy",
         "P033",
         "1.0",
         "385",
         "97",
         "6",
         "1",
         "0",
         "3",
         "0.3830396350735814",
         "0.6915198175367907",
         "8.0",
         "10"
        ],
        [
         "3",
         "R0001",
         "Bengaluru",
         "Pharmacy",
         "P013",
         "1.0",
         "392",
         "116",
         "6",
         "1",
         "0",
         "3",
         "0.347670916640467",
         "0.6738354583202335",
         "8.0",
         "10"
        ],
        [
         "4",
         "R0001",
         "Bengaluru",
         "Pharmacy",
         "P014",
         "2.0",
         "375",
         "103",
         "6",
         "1",
         "0",
         "3",
         "0.3399344421423395",
         "0.6699672210711698",
         "8.0",
         "10"
        ]
       ],
       "shape": {
        "columns": 15,
        "rows": 5
       }
      },
      "text/html": [
       "<div>\n",
       "<style scoped>\n",
       "    .dataframe tbody tr th:only-of-type {\n",
       "        vertical-align: middle;\n",
       "    }\n",
       "\n",
       "    .dataframe tbody tr th {\n",
       "        vertical-align: top;\n",
       "    }\n",
       "\n",
       "    .dataframe thead th {\n",
       "        text-align: right;\n",
       "    }\n",
       "</style>\n",
       "<table border=\"1\" class=\"dataframe\">\n",
       "  <thead>\n",
       "    <tr style=\"text-align: right;\">\n",
       "      <th></th>\n",
       "      <th>Retailer_ID</th>\n",
       "      <th>City</th>\n",
       "      <th>Channel</th>\n",
       "      <th>Product_ID</th>\n",
       "      <th>Recent_Purchase_Count</th>\n",
       "      <th>City_Purchase_Count</th>\n",
       "      <th>Channel_Purchase_Count</th>\n",
       "      <th>Rule_Score</th>\n",
       "      <th>Purchased_Label</th>\n",
       "      <th>City_Enc</th>\n",
       "      <th>Channel_Enc</th>\n",
       "      <th>ML_Score</th>\n",
       "      <th>Final_Score</th>\n",
       "      <th>Unique_SKUs_Purchased</th>\n",
       "      <th>TopN</th>\n",
       "    </tr>\n",
       "  </thead>\n",
       "  <tbody>\n",
       "    <tr>\n",
       "      <th>0</th>\n",
       "      <td>R0001</td>\n",
       "      <td>Bengaluru</td>\n",
       "      <td>Pharmacy</td>\n",
       "      <td>P004</td>\n",
       "      <td>1.0</td>\n",
       "      <td>371</td>\n",
       "      <td>110</td>\n",
       "      <td>6</td>\n",
       "      <td>1</td>\n",
       "      <td>0</td>\n",
       "      <td>3</td>\n",
       "      <td>0.399575</td>\n",
       "      <td>0.699788</td>\n",
       "      <td>8.0</td>\n",
       "      <td>10</td>\n",
       "    </tr>\n",
       "    <tr>\n",
       "      <th>1</th>\n",
       "      <td>R0001</td>\n",
       "      <td>Bengaluru</td>\n",
       "      <td>Pharmacy</td>\n",
       "      <td>P020</td>\n",
       "      <td>1.0</td>\n",
       "      <td>383</td>\n",
       "      <td>117</td>\n",
       "      <td>6</td>\n",
       "      <td>1</td>\n",
       "      <td>0</td>\n",
       "      <td>3</td>\n",
       "      <td>0.384836</td>\n",
       "      <td>0.692418</td>\n",
       "      <td>8.0</td>\n",
       "      <td>10</td>\n",
       "    </tr>\n",
       "    <tr>\n",
       "      <th>2</th>\n",
       "      <td>R0001</td>\n",
       "      <td>Bengaluru</td>\n",
       "      <td>Pharmacy</td>\n",
       "      <td>P033</td>\n",
       "      <td>1.0</td>\n",
       "      <td>385</td>\n",
       "      <td>97</td>\n",
       "      <td>6</td>\n",
       "      <td>1</td>\n",
       "      <td>0</td>\n",
       "      <td>3</td>\n",
       "      <td>0.383040</td>\n",
       "      <td>0.691520</td>\n",
       "      <td>8.0</td>\n",
       "      <td>10</td>\n",
       "    </tr>\n",
       "    <tr>\n",
       "      <th>3</th>\n",
       "      <td>R0001</td>\n",
       "      <td>Bengaluru</td>\n",
       "      <td>Pharmacy</td>\n",
       "      <td>P013</td>\n",
       "      <td>1.0</td>\n",
       "      <td>392</td>\n",
       "      <td>116</td>\n",
       "      <td>6</td>\n",
       "      <td>1</td>\n",
       "      <td>0</td>\n",
       "      <td>3</td>\n",
       "      <td>0.347671</td>\n",
       "      <td>0.673835</td>\n",
       "      <td>8.0</td>\n",
       "      <td>10</td>\n",
       "    </tr>\n",
       "    <tr>\n",
       "      <th>4</th>\n",
       "      <td>R0001</td>\n",
       "      <td>Bengaluru</td>\n",
       "      <td>Pharmacy</td>\n",
       "      <td>P014</td>\n",
       "      <td>2.0</td>\n",
       "      <td>375</td>\n",
       "      <td>103</td>\n",
       "      <td>6</td>\n",
       "      <td>1</td>\n",
       "      <td>0</td>\n",
       "      <td>3</td>\n",
       "      <td>0.339934</td>\n",
       "      <td>0.669967</td>\n",
       "      <td>8.0</td>\n",
       "      <td>10</td>\n",
       "    </tr>\n",
       "  </tbody>\n",
       "</table>\n",
       "</div>"
      ],
      "text/plain": [
       "  Retailer_ID       City   Channel Product_ID  Recent_Purchase_Count  \\\n",
       "0       R0001  Bengaluru  Pharmacy       P004                    1.0   \n",
       "1       R0001  Bengaluru  Pharmacy       P020                    1.0   \n",
       "2       R0001  Bengaluru  Pharmacy       P033                    1.0   \n",
       "3       R0001  Bengaluru  Pharmacy       P013                    1.0   \n",
       "4       R0001  Bengaluru  Pharmacy       P014                    2.0   \n",
       "\n",
       "   City_Purchase_Count  Channel_Purchase_Count  Rule_Score  Purchased_Label  \\\n",
       "0                  371                     110           6                1   \n",
       "1                  383                     117           6                1   \n",
       "2                  385                      97           6                1   \n",
       "3                  392                     116           6                1   \n",
       "4                  375                     103           6                1   \n",
       "\n",
       "   City_Enc  Channel_Enc  ML_Score  Final_Score  Unique_SKUs_Purchased  TopN  \n",
       "0         0            3  0.399575     0.699788                    8.0    10  \n",
       "1         0            3  0.384836     0.692418                    8.0    10  \n",
       "2         0            3  0.383040     0.691520                    8.0    10  \n",
       "3         0            3  0.347671     0.673835                    8.0    10  \n",
       "4         0            3  0.339934     0.669967                    8.0    10  "
      ]
     },
     "execution_count": 31,
     "metadata": {},
     "output_type": "execute_result"
    }
   ],
   "source": [
    "recommendations.head()"
   ]
  },
  {
   "cell_type": "code",
   "execution_count": 32,
   "id": "340d84ac",
   "metadata": {},
   "outputs": [],
   "source": [
    "# Final Output\n",
    "final_output = recommendations[[\"Retailer_ID\", \"Product_ID\", \"Final_Score\"]].copy()\n",
    "final_output[\"Recommendation_Timestamp\"] = datetime.now().strftime(\"%Y-%m-%d %H:%M:%S\")"
   ]
  },
  {
   "cell_type": "code",
   "execution_count": 33,
   "id": "10733253",
   "metadata": {},
   "outputs": [
    {
     "name": "stdout",
     "output_type": "stream",
     "text": [
      "Product recommendations saved to DB.\n"
     ]
    }
   ],
   "source": [
    "# Create table if not exists\n",
    "cursor.execute(\"\"\"\n",
    "CREATE TABLE IF NOT EXISTS product_recommendations_ml (\n",
    "    Retailer_ID TEXT,\n",
    "    Product_ID TEXT,\n",
    "    Final_Score REAL,\n",
    "    Recommendation_Timestamp TEXT\n",
    ")\n",
    "\"\"\"\n",
    ")\n",
    "\n",
    "# Remove old data\n",
    "cursor.execute(\"DELETE FROM product_recommendations_ml\")\n",
    "\n",
    "# Write new recommendations\n",
    "final_output.to_sql(\"product_recommendations_ml\", conn, if_exists=\"append\", index=False)\n",
    "\n",
    "print(\"Product recommendations saved to DB.\")\n",
    "conn.commit()\n",
    "conn.close()"
   ]
  },
  {
   "cell_type": "code",
   "execution_count": 34,
   "id": "a43db23c",
   "metadata": {},
   "outputs": [
    {
     "data": {
      "application/vnd.microsoft.datawrangler.viewer.v0+json": {
       "columns": [
        {
         "name": "index",
         "rawType": "int64",
         "type": "integer"
        },
        {
         "name": "Retailer_ID",
         "rawType": "object",
         "type": "string"
        },
        {
         "name": "Product_ID",
         "rawType": "object",
         "type": "string"
        },
        {
         "name": "Final_Score",
         "rawType": "float64",
         "type": "float"
        },
        {
         "name": "Recommendation_Timestamp",
         "rawType": "object",
         "type": "string"
        }
       ],
       "ref": "0e5df7b4-d918-4008-9ba1-a1c79121bc62",
       "rows": [
        [
         "0",
         "R0001",
         "P004",
         "0.6997875081545444",
         "2025-07-22 19:25:17"
        ],
        [
         "1",
         "R0001",
         "P020",
         "0.692418196799293",
         "2025-07-22 19:25:17"
        ],
        [
         "2",
         "R0001",
         "P033",
         "0.6915198175367907",
         "2025-07-22 19:25:17"
        ],
        [
         "3",
         "R0001",
         "P013",
         "0.6738354583202335",
         "2025-07-22 19:25:17"
        ],
        [
         "4",
         "R0001",
         "P014",
         "0.6699672210711698",
         "2025-07-22 19:25:17"
        ]
       ],
       "shape": {
        "columns": 4,
        "rows": 5
       }
      },
      "text/html": [
       "<div>\n",
       "<style scoped>\n",
       "    .dataframe tbody tr th:only-of-type {\n",
       "        vertical-align: middle;\n",
       "    }\n",
       "\n",
       "    .dataframe tbody tr th {\n",
       "        vertical-align: top;\n",
       "    }\n",
       "\n",
       "    .dataframe thead th {\n",
       "        text-align: right;\n",
       "    }\n",
       "</style>\n",
       "<table border=\"1\" class=\"dataframe\">\n",
       "  <thead>\n",
       "    <tr style=\"text-align: right;\">\n",
       "      <th></th>\n",
       "      <th>Retailer_ID</th>\n",
       "      <th>Product_ID</th>\n",
       "      <th>Final_Score</th>\n",
       "      <th>Recommendation_Timestamp</th>\n",
       "    </tr>\n",
       "  </thead>\n",
       "  <tbody>\n",
       "    <tr>\n",
       "      <th>0</th>\n",
       "      <td>R0001</td>\n",
       "      <td>P004</td>\n",
       "      <td>0.699788</td>\n",
       "      <td>2025-07-22 19:25:17</td>\n",
       "    </tr>\n",
       "    <tr>\n",
       "      <th>1</th>\n",
       "      <td>R0001</td>\n",
       "      <td>P020</td>\n",
       "      <td>0.692418</td>\n",
       "      <td>2025-07-22 19:25:17</td>\n",
       "    </tr>\n",
       "    <tr>\n",
       "      <th>2</th>\n",
       "      <td>R0001</td>\n",
       "      <td>P033</td>\n",
       "      <td>0.691520</td>\n",
       "      <td>2025-07-22 19:25:17</td>\n",
       "    </tr>\n",
       "    <tr>\n",
       "      <th>3</th>\n",
       "      <td>R0001</td>\n",
       "      <td>P013</td>\n",
       "      <td>0.673835</td>\n",
       "      <td>2025-07-22 19:25:17</td>\n",
       "    </tr>\n",
       "    <tr>\n",
       "      <th>4</th>\n",
       "      <td>R0001</td>\n",
       "      <td>P014</td>\n",
       "      <td>0.669967</td>\n",
       "      <td>2025-07-22 19:25:17</td>\n",
       "    </tr>\n",
       "  </tbody>\n",
       "</table>\n",
       "</div>"
      ],
      "text/plain": [
       "  Retailer_ID Product_ID  Final_Score Recommendation_Timestamp\n",
       "0       R0001       P004     0.699788      2025-07-22 19:25:17\n",
       "1       R0001       P020     0.692418      2025-07-22 19:25:17\n",
       "2       R0001       P033     0.691520      2025-07-22 19:25:17\n",
       "3       R0001       P013     0.673835      2025-07-22 19:25:17\n",
       "4       R0001       P014     0.669967      2025-07-22 19:25:17"
      ]
     },
     "execution_count": 34,
     "metadata": {},
     "output_type": "execute_result"
    }
   ],
   "source": [
    "final_output.head()"
   ]
  },
  {
   "cell_type": "code",
   "execution_count": 35,
   "id": "7bac6dbd",
   "metadata": {},
   "outputs": [
    {
     "data": {
      "application/vnd.microsoft.datawrangler.viewer.v0+json": {
       "columns": [
        {
         "name": "Product_ID",
         "rawType": "object",
         "type": "string"
        },
        {
         "name": "count",
         "rawType": "int64",
         "type": "integer"
        }
       ],
       "ref": "fb52d9cc-691a-4257-a570-7a4af47beea8",
       "rows": [
        [
         "P010",
         "149"
        ],
        [
         "P033",
         "124"
        ],
        [
         "P029",
         "117"
        ],
        [
         "P019",
         "100"
        ],
        [
         "P004",
         "94"
        ],
        [
         "P026",
         "88"
        ],
        [
         "P017",
         "87"
        ],
        [
         "P015",
         "87"
        ],
        [
         "P008",
         "87"
        ],
        [
         "P023",
         "83"
        ],
        [
         "P013",
         "79"
        ],
        [
         "P020",
         "78"
        ],
        [
         "P014",
         "77"
        ],
        [
         "P002",
         "73"
        ],
        [
         "P025",
         "73"
        ],
        [
         "P038",
         "70"
        ],
        [
         "P003",
         "70"
        ],
        [
         "P012",
         "65"
        ],
        [
         "P040",
         "57"
        ],
        [
         "P037",
         "54"
        ],
        [
         "P016",
         "53"
        ],
        [
         "P005",
         "53"
        ],
        [
         "P035",
         "47"
        ],
        [
         "P006",
         "43"
        ],
        [
         "P028",
         "40"
        ],
        [
         "P018",
         "37"
        ],
        [
         "P009",
         "36"
        ],
        [
         "P032",
         "34"
        ],
        [
         "P001",
         "31"
        ],
        [
         "P021",
         "25"
        ],
        [
         "P011",
         "24"
        ],
        [
         "P030",
         "23"
        ],
        [
         "P039",
         "22"
        ],
        [
         "P022",
         "18"
        ],
        [
         "P007",
         "15"
        ],
        [
         "P031",
         "14"
        ],
        [
         "P024",
         "12"
        ],
        [
         "P027",
         "10"
        ],
        [
         "P036",
         "9"
        ],
        [
         "P034",
         "3"
        ]
       ],
       "shape": {
        "columns": 1,
        "rows": 40
       }
      },
      "text/plain": [
       "Product_ID\n",
       "P010    149\n",
       "P033    124\n",
       "P029    117\n",
       "P019    100\n",
       "P004     94\n",
       "P026     88\n",
       "P017     87\n",
       "P015     87\n",
       "P008     87\n",
       "P023     83\n",
       "P013     79\n",
       "P020     78\n",
       "P014     77\n",
       "P002     73\n",
       "P025     73\n",
       "P038     70\n",
       "P003     70\n",
       "P012     65\n",
       "P040     57\n",
       "P037     54\n",
       "P016     53\n",
       "P005     53\n",
       "P035     47\n",
       "P006     43\n",
       "P028     40\n",
       "P018     37\n",
       "P009     36\n",
       "P032     34\n",
       "P001     31\n",
       "P021     25\n",
       "P011     24\n",
       "P030     23\n",
       "P039     22\n",
       "P022     18\n",
       "P007     15\n",
       "P031     14\n",
       "P024     12\n",
       "P027     10\n",
       "P036      9\n",
       "P034      3\n",
       "Name: count, dtype: int64"
      ]
     },
     "execution_count": 35,
     "metadata": {},
     "output_type": "execute_result"
    }
   ],
   "source": [
    "final_output['Product_ID'].value_counts()"
   ]
  },
  {
   "cell_type": "code",
   "execution_count": null,
   "id": "91443b30",
   "metadata": {},
   "outputs": [],
   "source": []
  }
 ],
 "metadata": {
  "kernelspec": {
   "display_name": "salesagent (3.12.9)",
   "language": "python",
   "name": "python3"
  },
  "language_info": {
   "codemirror_mode": {
    "name": "ipython",
    "version": 3
   },
   "file_extension": ".py",
   "mimetype": "text/x-python",
   "name": "python",
   "nbconvert_exporter": "python",
   "pygments_lexer": "ipython3",
   "version": "3.12.9"
  }
 },
 "nbformat": 4,
 "nbformat_minor": 5
}
